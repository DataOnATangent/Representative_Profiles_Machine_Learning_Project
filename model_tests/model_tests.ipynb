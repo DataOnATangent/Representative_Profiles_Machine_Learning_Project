{
 "cells": [
  {
   "cell_type": "code",
   "execution_count": null,
   "metadata": {},
   "outputs": [],
   "source": []
  },
  {
   "cell_type": "code",
   "execution_count": null,
   "metadata": {},
   "outputs": [],
   "source": []
  },
  {
   "cell_type": "code",
   "execution_count": 19,
   "metadata": {},
   "outputs": [],
   "source": [
    "#Code for importing packages\n",
    "import pandas as pd  \n",
    "import warnings\n",
    "warnings.filterwarnings(\"ignore\")  \n",
    "import numpy as np \n",
    "from math import ceil\n",
    "import seaborn as sns\n",
    "import matplotlib.pyplot as plt\n",
    "from sklearn.metrics import confusion_matrix \n",
    "from sklearn.preprocessing import LabelBinarizer\n",
    "from sklearn.metrics import accuracy_score,roc_auc_score,roc_curve,auc \n",
    "from sklearn.model_selection import train_test_split \n",
    "from sklearn.linear_model import LogisticRegression  \n",
    "from sklearn.metrics import plot_confusion_matrix \n",
    "from sklearn.metrics import classification_report"
   ]
  },
  {
   "cell_type": "code",
   "execution_count": 4,
   "metadata": {},
   "outputs": [
    {
     "data": {
      "text/html": [
       "<div>\n",
       "<style scoped>\n",
       "    .dataframe tbody tr th:only-of-type {\n",
       "        vertical-align: middle;\n",
       "    }\n",
       "\n",
       "    .dataframe tbody tr th {\n",
       "        vertical-align: top;\n",
       "    }\n",
       "\n",
       "    .dataframe thead th {\n",
       "        text-align: right;\n",
       "    }\n",
       "</style>\n",
       "<table border=\"1\" class=\"dataframe\">\n",
       "  <thead>\n",
       "    <tr style=\"text-align: right;\">\n",
       "      <th></th>\n",
       "      <th>age</th>\n",
       "      <th>height</th>\n",
       "      <th>job_catagories</th>\n",
       "      <th>female</th>\n",
       "      <th>male</th>\n",
       "      <th>heterosexual</th>\n",
       "      <th>not_heterosexual</th>\n",
       "      <th>body_average</th>\n",
       "      <th>body_curvy/full_figured</th>\n",
       "      <th>body_fit/athletic</th>\n",
       "      <th>...</th>\n",
       "      <th>cancer</th>\n",
       "      <th>capricorn</th>\n",
       "      <th>gemini</th>\n",
       "      <th>leo</th>\n",
       "      <th>libra</th>\n",
       "      <th>pisces</th>\n",
       "      <th>sagittarius</th>\n",
       "      <th>scorpio</th>\n",
       "      <th>taurus</th>\n",
       "      <th>virgo</th>\n",
       "    </tr>\n",
       "  </thead>\n",
       "  <tbody>\n",
       "    <tr>\n",
       "      <th>0</th>\n",
       "      <td>22</td>\n",
       "      <td>75.0</td>\n",
       "      <td>public_services</td>\n",
       "      <td>0</td>\n",
       "      <td>1</td>\n",
       "      <td>1</td>\n",
       "      <td>0</td>\n",
       "      <td>0</td>\n",
       "      <td>1</td>\n",
       "      <td>0</td>\n",
       "      <td>...</td>\n",
       "      <td>0</td>\n",
       "      <td>0</td>\n",
       "      <td>1</td>\n",
       "      <td>0</td>\n",
       "      <td>0</td>\n",
       "      <td>0</td>\n",
       "      <td>0</td>\n",
       "      <td>0</td>\n",
       "      <td>0</td>\n",
       "      <td>0</td>\n",
       "    </tr>\n",
       "    <tr>\n",
       "      <th>1</th>\n",
       "      <td>35</td>\n",
       "      <td>70.0</td>\n",
       "      <td>public_services</td>\n",
       "      <td>0</td>\n",
       "      <td>1</td>\n",
       "      <td>1</td>\n",
       "      <td>0</td>\n",
       "      <td>1</td>\n",
       "      <td>0</td>\n",
       "      <td>0</td>\n",
       "      <td>...</td>\n",
       "      <td>1</td>\n",
       "      <td>0</td>\n",
       "      <td>0</td>\n",
       "      <td>0</td>\n",
       "      <td>0</td>\n",
       "      <td>0</td>\n",
       "      <td>0</td>\n",
       "      <td>0</td>\n",
       "      <td>0</td>\n",
       "      <td>0</td>\n",
       "    </tr>\n",
       "    <tr>\n",
       "      <th>2</th>\n",
       "      <td>29</td>\n",
       "      <td>66.0</td>\n",
       "      <td>entertainment/artist/craftmans</td>\n",
       "      <td>0</td>\n",
       "      <td>1</td>\n",
       "      <td>1</td>\n",
       "      <td>0</td>\n",
       "      <td>0</td>\n",
       "      <td>0</td>\n",
       "      <td>1</td>\n",
       "      <td>...</td>\n",
       "      <td>0</td>\n",
       "      <td>0</td>\n",
       "      <td>0</td>\n",
       "      <td>0</td>\n",
       "      <td>0</td>\n",
       "      <td>0</td>\n",
       "      <td>0</td>\n",
       "      <td>0</td>\n",
       "      <td>0</td>\n",
       "      <td>0</td>\n",
       "    </tr>\n",
       "    <tr>\n",
       "      <th>3</th>\n",
       "      <td>29</td>\n",
       "      <td>67.0</td>\n",
       "      <td>science/tech</td>\n",
       "      <td>0</td>\n",
       "      <td>1</td>\n",
       "      <td>1</td>\n",
       "      <td>0</td>\n",
       "      <td>1</td>\n",
       "      <td>0</td>\n",
       "      <td>0</td>\n",
       "      <td>...</td>\n",
       "      <td>0</td>\n",
       "      <td>0</td>\n",
       "      <td>0</td>\n",
       "      <td>0</td>\n",
       "      <td>0</td>\n",
       "      <td>0</td>\n",
       "      <td>0</td>\n",
       "      <td>0</td>\n",
       "      <td>1</td>\n",
       "      <td>0</td>\n",
       "    </tr>\n",
       "    <tr>\n",
       "      <th>4</th>\n",
       "      <td>31</td>\n",
       "      <td>65.0</td>\n",
       "      <td>entertainment/artist/craftmans</td>\n",
       "      <td>1</td>\n",
       "      <td>0</td>\n",
       "      <td>1</td>\n",
       "      <td>0</td>\n",
       "      <td>1</td>\n",
       "      <td>0</td>\n",
       "      <td>0</td>\n",
       "      <td>...</td>\n",
       "      <td>0</td>\n",
       "      <td>0</td>\n",
       "      <td>0</td>\n",
       "      <td>0</td>\n",
       "      <td>0</td>\n",
       "      <td>0</td>\n",
       "      <td>1</td>\n",
       "      <td>0</td>\n",
       "      <td>0</td>\n",
       "      <td>0</td>\n",
       "    </tr>\n",
       "  </tbody>\n",
       "</table>\n",
       "<p>5 rows × 62 columns</p>\n",
       "</div>"
      ],
      "text/plain": [
       "   age  height                  job_catagories  female  male  heterosexual  \\\n",
       "0   22    75.0                 public_services       0     1             1   \n",
       "1   35    70.0                 public_services       0     1             1   \n",
       "2   29    66.0  entertainment/artist/craftmans       0     1             1   \n",
       "3   29    67.0                    science/tech       0     1             1   \n",
       "4   31    65.0  entertainment/artist/craftmans       1     0             1   \n",
       "\n",
       "   not_heterosexual  body_average  body_curvy/full_figured  body_fit/athletic  \\\n",
       "0                 0             0                        1                  0   \n",
       "1                 0             1                        0                  0   \n",
       "2                 0             0                        0                  1   \n",
       "3                 0             1                        0                  0   \n",
       "4                 0             1                        0                  0   \n",
       "\n",
       "   ...  cancer  capricorn  gemini  leo  libra  pisces  sagittarius  scorpio  \\\n",
       "0  ...       0          0       1    0      0       0            0        0   \n",
       "1  ...       1          0       0    0      0       0            0        0   \n",
       "2  ...       0          0       0    0      0       0            0        0   \n",
       "3  ...       0          0       0    0      0       0            0        0   \n",
       "4  ...       0          0       0    0      0       0            1        0   \n",
       "\n",
       "   taurus  virgo  \n",
       "0       0      0  \n",
       "1       0      0  \n",
       "2       0      0  \n",
       "3       1      0  \n",
       "4       0      0  \n",
       "\n",
       "[5 rows x 62 columns]"
      ]
     },
     "execution_count": 4,
     "metadata": {},
     "output_type": "execute_result"
    }
   ],
   "source": [
    "df = pd.read_csv('data_all_dummies-Copy1.csv')\n",
    "del df['Unnamed: 0'] \n",
    "df.head()"
   ]
  },
  {
   "cell_type": "code",
   "execution_count": 5,
   "metadata": {},
   "outputs": [
    {
     "data": {
      "text/plain": [
       "public_services                   9598\n",
       "other_white_collar                8296\n",
       "science/tech                      7442\n",
       "entertainment/artist/craftmans    6808\n",
       "Name: job_catagories, dtype: int64"
      ]
     },
     "execution_count": 5,
     "metadata": {},
     "output_type": "execute_result"
    }
   ],
   "source": [
    "df.job_catagories.value_counts()"
   ]
  },
  {
   "cell_type": "code",
   "execution_count": 6,
   "metadata": {},
   "outputs": [
    {
     "data": {
      "text/html": [
       "<div>\n",
       "<style scoped>\n",
       "    .dataframe tbody tr th:only-of-type {\n",
       "        vertical-align: middle;\n",
       "    }\n",
       "\n",
       "    .dataframe tbody tr th {\n",
       "        vertical-align: top;\n",
       "    }\n",
       "\n",
       "    .dataframe thead th {\n",
       "        text-align: right;\n",
       "    }\n",
       "</style>\n",
       "<table border=\"1\" class=\"dataframe\">\n",
       "  <thead>\n",
       "    <tr style=\"text-align: right;\">\n",
       "      <th></th>\n",
       "      <th>age</th>\n",
       "      <th>height</th>\n",
       "      <th>female</th>\n",
       "      <th>male</th>\n",
       "      <th>heterosexual</th>\n",
       "      <th>not_heterosexual</th>\n",
       "      <th>body_average</th>\n",
       "      <th>body_curvy/full_figured</th>\n",
       "      <th>body_fit/athletic</th>\n",
       "      <th>body_thin/skinny</th>\n",
       "      <th>...</th>\n",
       "      <th>cancer</th>\n",
       "      <th>capricorn</th>\n",
       "      <th>gemini</th>\n",
       "      <th>leo</th>\n",
       "      <th>libra</th>\n",
       "      <th>pisces</th>\n",
       "      <th>sagittarius</th>\n",
       "      <th>scorpio</th>\n",
       "      <th>taurus</th>\n",
       "      <th>virgo</th>\n",
       "    </tr>\n",
       "  </thead>\n",
       "  <tbody>\n",
       "    <tr>\n",
       "      <th>0</th>\n",
       "      <td>22</td>\n",
       "      <td>75.0</td>\n",
       "      <td>0</td>\n",
       "      <td>1</td>\n",
       "      <td>1</td>\n",
       "      <td>0</td>\n",
       "      <td>0</td>\n",
       "      <td>1</td>\n",
       "      <td>0</td>\n",
       "      <td>0</td>\n",
       "      <td>...</td>\n",
       "      <td>0</td>\n",
       "      <td>0</td>\n",
       "      <td>1</td>\n",
       "      <td>0</td>\n",
       "      <td>0</td>\n",
       "      <td>0</td>\n",
       "      <td>0</td>\n",
       "      <td>0</td>\n",
       "      <td>0</td>\n",
       "      <td>0</td>\n",
       "    </tr>\n",
       "    <tr>\n",
       "      <th>1</th>\n",
       "      <td>35</td>\n",
       "      <td>70.0</td>\n",
       "      <td>0</td>\n",
       "      <td>1</td>\n",
       "      <td>1</td>\n",
       "      <td>0</td>\n",
       "      <td>1</td>\n",
       "      <td>0</td>\n",
       "      <td>0</td>\n",
       "      <td>0</td>\n",
       "      <td>...</td>\n",
       "      <td>1</td>\n",
       "      <td>0</td>\n",
       "      <td>0</td>\n",
       "      <td>0</td>\n",
       "      <td>0</td>\n",
       "      <td>0</td>\n",
       "      <td>0</td>\n",
       "      <td>0</td>\n",
       "      <td>0</td>\n",
       "      <td>0</td>\n",
       "    </tr>\n",
       "    <tr>\n",
       "      <th>2</th>\n",
       "      <td>29</td>\n",
       "      <td>66.0</td>\n",
       "      <td>0</td>\n",
       "      <td>1</td>\n",
       "      <td>1</td>\n",
       "      <td>0</td>\n",
       "      <td>0</td>\n",
       "      <td>0</td>\n",
       "      <td>1</td>\n",
       "      <td>0</td>\n",
       "      <td>...</td>\n",
       "      <td>0</td>\n",
       "      <td>0</td>\n",
       "      <td>0</td>\n",
       "      <td>0</td>\n",
       "      <td>0</td>\n",
       "      <td>0</td>\n",
       "      <td>0</td>\n",
       "      <td>0</td>\n",
       "      <td>0</td>\n",
       "      <td>0</td>\n",
       "    </tr>\n",
       "    <tr>\n",
       "      <th>3</th>\n",
       "      <td>29</td>\n",
       "      <td>67.0</td>\n",
       "      <td>0</td>\n",
       "      <td>1</td>\n",
       "      <td>1</td>\n",
       "      <td>0</td>\n",
       "      <td>1</td>\n",
       "      <td>0</td>\n",
       "      <td>0</td>\n",
       "      <td>0</td>\n",
       "      <td>...</td>\n",
       "      <td>0</td>\n",
       "      <td>0</td>\n",
       "      <td>0</td>\n",
       "      <td>0</td>\n",
       "      <td>0</td>\n",
       "      <td>0</td>\n",
       "      <td>0</td>\n",
       "      <td>0</td>\n",
       "      <td>1</td>\n",
       "      <td>0</td>\n",
       "    </tr>\n",
       "    <tr>\n",
       "      <th>4</th>\n",
       "      <td>31</td>\n",
       "      <td>65.0</td>\n",
       "      <td>1</td>\n",
       "      <td>0</td>\n",
       "      <td>1</td>\n",
       "      <td>0</td>\n",
       "      <td>1</td>\n",
       "      <td>0</td>\n",
       "      <td>0</td>\n",
       "      <td>0</td>\n",
       "      <td>...</td>\n",
       "      <td>0</td>\n",
       "      <td>0</td>\n",
       "      <td>0</td>\n",
       "      <td>0</td>\n",
       "      <td>0</td>\n",
       "      <td>0</td>\n",
       "      <td>1</td>\n",
       "      <td>0</td>\n",
       "      <td>0</td>\n",
       "      <td>0</td>\n",
       "    </tr>\n",
       "  </tbody>\n",
       "</table>\n",
       "<p>5 rows × 61 columns</p>\n",
       "</div>"
      ],
      "text/plain": [
       "   age  height  female  male  heterosexual  not_heterosexual  body_average  \\\n",
       "0   22    75.0       0     1             1                 0             0   \n",
       "1   35    70.0       0     1             1                 0             1   \n",
       "2   29    66.0       0     1             1                 0             0   \n",
       "3   29    67.0       0     1             1                 0             1   \n",
       "4   31    65.0       1     0             1                 0             1   \n",
       "\n",
       "   body_curvy/full_figured  body_fit/athletic  body_thin/skinny  ...  cancer  \\\n",
       "0                        1                  0                 0  ...       0   \n",
       "1                        0                  0                 0  ...       1   \n",
       "2                        0                  1                 0  ...       0   \n",
       "3                        0                  0                 0  ...       0   \n",
       "4                        0                  0                 0  ...       0   \n",
       "\n",
       "   capricorn  gemini  leo  libra  pisces  sagittarius  scorpio  taurus  virgo  \n",
       "0          0       1    0      0       0            0        0       0      0  \n",
       "1          0       0    0      0       0            0        0       0      0  \n",
       "2          0       0    0      0       0            0        0       0      0  \n",
       "3          0       0    0      0       0            0        0       1      0  \n",
       "4          0       0    0      0       0            1        0       0      0  \n",
       "\n",
       "[5 rows x 61 columns]"
      ]
     },
     "execution_count": 6,
     "metadata": {},
     "output_type": "execute_result"
    }
   ],
   "source": [
    "#Feature Selection\n",
    "all_features = df.drop([\"job_catagories\"],axis=1) \n",
    "target_feature = df[\"job_catagories\"]\n",
    "all_features.head()"
   ]
  },
  {
   "cell_type": "code",
   "execution_count": 7,
   "metadata": {},
   "outputs": [],
   "source": [
    "#Normalizing values\n",
    "from sklearn import preprocessing\n",
    "x = all_features.values.astype(float) #returns a numpy array of type float\n",
    "scaler = preprocessing.StandardScaler()\n",
    "x_scaled = scaler.fit_transform(x)\n",
    "scaled_features = pd.DataFrame(x_scaled)"
   ]
  },
  {
   "cell_type": "code",
   "execution_count": 8,
   "metadata": {},
   "outputs": [],
   "source": [
    "#Preprocessing dataset for algorithm\n",
    "Y=list()\n",
    "X=np.array(scaled_features)\n",
    "y=np.array(target_feature)\n",
    "label_dict = {'public_services':0, 'other_white_collar':1, 'science/tech':2, 'entertainment/artist/craftmans':3 }\n",
    "_label_dict = {0 :'public_services' , 1 :'other_white_collar' , 2 :'science/tech', 3: 'entertainment/artist/craftmans'}\n",
    "for i in y:\n",
    "    Y.append(label_dict[i])\n",
    "y=np.array(Y,dtype=int)\n",
    "y_unique = np.unique(y) "
   ]
  },
  {
   "cell_type": "code",
   "execution_count": 9,
   "metadata": {},
   "outputs": [],
   "source": [
    "#Modelling logistic regression\n",
    "def logisticRegression(X, y,theta,num_iter):\n",
    "    \n",
    "    #Sigmoid function\n",
    "    def sigmoid(z):\n",
    "        return 1.0 / (1 + np.exp(-z))\n",
    "    \n",
    "    #Cost function\n",
    "    def costFunc(theta, X, y, lr = 0.001):\n",
    "        h = sigmoid(X.dot(theta))\n",
    "        r = (lr/(2 * len(y))) * np.sum(theta**2)\n",
    "        return (1 / len(y)) * (-y.T.dot(np.log(h)) - (1 - y).T.dot(np.log(1 - h))) + r\n",
    "    \n",
    "    #Gradient descent function\n",
    "    def gradientFunc(theta, X, y, lr = 0.001):\n",
    "        m, n = X.shape\n",
    "        theta = theta.reshape((n, 1))\n",
    "        y = y.reshape((m, 1))\n",
    "        h = sigmoid(X.dot(theta))\n",
    "        r = lr * theta /m\n",
    "        return ((1 / m) * X.T.dot(h - y)) + r\n",
    "    \n",
    "    #Finding best theta\n",
    "    for i in range(num_iter):\n",
    "        lineq = np.dot(X, theta)\n",
    "        h = sigmoid(lineq)\n",
    "        #Calculating cost function of each class\n",
    "        cost = costFunc(theta, X,y) \n",
    "        cost = cost.sum(axis = 0)\n",
    "        #Applying gradient descent to find new theta\n",
    "        delta = gradientFunc(theta,X,y) \n",
    "        theta = theta - delta    \n",
    "    return theta "
   ]
  },
  {
   "cell_type": "code",
   "execution_count": 10,
   "metadata": {},
   "outputs": [],
   "source": [
    "#Sigmoid function\n",
    "def sigmoid(z):\n",
    "    return 1.0 / (1 + np.exp(-z))"
   ]
  },
  {
   "cell_type": "code",
   "execution_count": 53,
   "metadata": {},
   "outputs": [
    {
     "name": "stdout",
     "output_type": "stream",
     "text": [
      "The score for Logistic Regression for fold 1 is:  38.02 %  No of misclassfied 3985\n",
      "The score for Logistic Regression for fold 2 is:  38.22 %  No of misclassfied 7957\n",
      "The score for Logistic Regression for fold 3 is:  40.38 %  No of misclassfied 11790\n",
      "The score for Logistic Regression for fold 4 is:  39.0 %  No of misclassfied 15712\n",
      "The score for Logistic Regression for fold 5 is:  39.07 %  No of misclassfied 19629\n",
      "The overall score for Logistic Regression is:  38.94 %\n"
     ]
    }
   ],
   "source": [
    "#Model training\n",
    "score = list()\n",
    "missclass =0 \n",
    "\n",
    "#KFold cross validation\n",
    "for fold in range(5):\n",
    "    X_train,X_test,y_train,y_test = train_test_split(X,y,test_size=0.2)\n",
    "    #OneVsRest\n",
    "    i,k,n= 0,4,61 #No of classes and features\n",
    "    all_theta = np.zeros((k, n))\n",
    "    for obs in y_unique:\n",
    "        np_y_train = np.array(y_train == obs, dtype = int)\n",
    "        best_theta = logisticRegression(X_train, np_y_train, np.zeros((n,1)),10000)\n",
    "        all_theta[i] = best_theta.T\n",
    "        i += 1   \n",
    "    #Predictions\n",
    "    prediction = sigmoid(X_test.dot(all_theta.T))\n",
    "    prediction = prediction.tolist()\n",
    "    pred = list()\n",
    "    act = list()\n",
    "    for _i,i in enumerate(prediction):\n",
    "        pred.append(_label_dict[ i.index(max(i)) ])\n",
    "        if _label_dict[ i.index(max(i)) ] !=  _label_dict[y_test[_i]] :\n",
    "            missclass += 1\n",
    "        act.append(_label_dict[y_test[_i]]) \n",
    "    score.append(round(accuracy_score(pred, act)*100,2))\n",
    "    print(\"The score for Logistic Regression for fold\",fold+1,\"is: \",score[fold] ,'%', \" No of misclassfied\",missclass)\n",
    "print(\"The overall score for Logistic Regression is: \", round(sum(score)/len(score),2),'%')"
   ]
  },
  {
   "cell_type": "code",
   "execution_count": 25,
   "metadata": {},
   "outputs": [],
   "source": [
    "X_train,X_test,y_train,y_test = train_test_split(X,y,test_size=0.2)\n",
    "#define classification model\n",
    "Multiclass_model = LogisticRegression(multi_class='ovr')\n",
    "#fit model\n",
    "Multiclass_model.fit(X_train, y_train)\n",
    "#make final predictions\n",
    "y_hat_test = Multiclass_model.predict(X_test)\n",
    "y_hat_train = Multiclass_model.predict(X_train)"
   ]
  },
  {
   "cell_type": "code",
   "execution_count": 15,
   "metadata": {},
   "outputs": [
    {
     "name": "stdout",
     "output_type": "stream",
     "text": [
      "0    10263\n",
      "1     8585\n",
      "2     4128\n",
      "3     2739\n",
      "dtype: int64\n",
      "0    0.399106\n",
      "1    0.333852\n",
      "2    0.160529\n",
      "3    0.106514\n",
      "dtype: float64\n"
     ]
    }
   ],
   "source": [
    "residuals = np.abs(y_train - y_hat_train)\n",
    "print(pd.Series(residuals).value_counts())\n",
    "print(pd.Series(residuals).value_counts(normalize=True))"
   ]
  },
  {
   "cell_type": "code",
   "execution_count": 16,
   "metadata": {},
   "outputs": [
    {
     "name": "stdout",
     "output_type": "stream",
     "text": [
      "0    2541\n",
      "1    2162\n",
      "2    1086\n",
      "3     640\n",
      "dtype: int64\n",
      "0    0.395240\n",
      "1    0.336289\n",
      "2    0.168922\n",
      "3    0.099549\n",
      "dtype: float64\n"
     ]
    }
   ],
   "source": [
    "residuals = np.abs(y_test - y_hat_test)\n",
    "print(pd.Series(residuals).value_counts())\n",
    "print(pd.Series(residuals).value_counts(normalize=True))"
   ]
  },
  {
   "cell_type": "code",
   "execution_count": 17,
   "metadata": {},
   "outputs": [
    {
     "name": "stdout",
     "output_type": "stream",
     "text": [
      "Confusion Matrix:\n",
      " [[975 351 357 203]\n",
      " [641 470 414 178]\n",
      " [332 247 727 189]\n",
      " [437 219 320 369]]\n"
     ]
    }
   ],
   "source": [
    "# Print confusion matrix\n",
    "cnf_matrix = confusion_matrix(y_test, y_hat_test)\n",
    "print('Confusion Matrix:\\n', cnf_matrix)"
   ]
  },
  {
   "cell_type": "code",
   "execution_count": 18,
   "metadata": {},
   "outputs": [
    {
     "data": {
      "image/png": "[encoded data removed]",
      "text/plain": [
       "<Figure size 432x288 with 2 Axes>"
      ]
     },
     "metadata": {
      "needs_background": "light"
     },
     "output_type": "display_data"
    }
   ],
   "source": [
    "# Visualize your confusion matrix\n",
    "plot_confusion_matrix(Multiclass_model, X_test, y_test,\n",
    "                     cmap=plt.cm.Blues)\n",
    "plt.show()"
   ]
  },
  {
   "cell_type": "code",
   "execution_count": 36,
   "metadata": {},
   "outputs": [
    {
     "data": {
      "text/plain": [
       "0.3974722924363212"
      ]
     },
     "execution_count": 36,
     "metadata": {},
     "output_type": "execute_result"
    }
   ],
   "source": [
    "from sklearn.metrics import precision_score\n",
    "precision_score(y_train, y_hat_train, average='micro')"
   ]
  },
  {
   "cell_type": "code",
   "execution_count": 37,
   "metadata": {},
   "outputs": [
    {
     "data": {
      "text/plain": [
       "0.39115125508764376"
      ]
     },
     "execution_count": 37,
     "metadata": {},
     "output_type": "execute_result"
    }
   ],
   "source": [
    "precision_score(y_train, y_hat_train, average='weighted')"
   ]
  },
  {
   "cell_type": "code",
   "execution_count": 39,
   "metadata": {},
   "outputs": [
    {
     "name": "stdout",
     "output_type": "stream",
     "text": [
      "              precision    recall  f1-score   support\n",
      "\n",
      "           0       0.42      0.54      0.47      7680\n",
      "           1       0.35      0.25      0.29      6620\n",
      "           2       0.41      0.51      0.45      5954\n",
      "           3       0.38      0.26      0.31      5461\n",
      "\n",
      "    accuracy                           0.40     25715\n",
      "   macro avg       0.39      0.39      0.38     25715\n",
      "weighted avg       0.39      0.40      0.39     25715\n",
      "\n"
     ]
    }
   ],
   "source": [
    "print(classification_report(y_train, y_hat_train))"
   ]
  },
  {
   "cell_type": "code",
   "execution_count": null,
   "metadata": {},
   "outputs": [],
   "source": []
  }
 ],
 "metadata": {
  "kernelspec": {
   "display_name": "learn-env",
   "language": "python",
   "name": "learn-env"
  },
  "language_info": {
   "codemirror_mode": {
    "name": "ipython",
    "version": 3
   },
   "file_extension": ".py",
   "mimetype": "text/x-python",
   "name": "python",
   "nbconvert_exporter": "python",
   "pygments_lexer": "ipython3",
   "version": "3.6.9"
  }
 },
 "nbformat": 4,
 "nbformat_minor": 4
}
