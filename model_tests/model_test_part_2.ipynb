{
 "cells": [
  {
   "cell_type": "markdown",
   "metadata": {},
   "source": [
    "# Model Test Round Two \n",
    "Now that I have seen what my model does as a baseline, I can start making some changes, namely resampling  "
   ]
  },
  {
   "cell_type": "markdown",
   "metadata": {},
   "source": [
    "## Set-up the Data \n",
    "As always I will start by importing the necessary packages and setting up the dataframes."
   ]
  },
  {
   "cell_type": "code",
   "execution_count": 1,
   "metadata": {},
   "outputs": [],
   "source": [
    "#Code for importing packages\n",
    "import pandas as pd  \n",
    "import warnings\n",
    "warnings.filterwarnings(\"ignore\")  \n",
    "import numpy as np \n",
    "from math import ceil\n",
    "import seaborn as sns\n",
    "import matplotlib.pyplot as plt\n",
    "from sklearn.metrics import confusion_matrix \n",
    "from sklearn.preprocessing import LabelBinarizer\n",
    "from sklearn.metrics import accuracy_score,roc_auc_score,roc_curve,auc \n",
    "from sklearn.model_selection import train_test_split \n",
    "from sklearn.linear_model import LogisticRegression  \n",
    "from sklearn.metrics import plot_confusion_matrix \n",
    "from sklearn.metrics import classification_report \n",
    "from scipy.spatial.distance import euclidean \n",
    "from sklearn.metrics import precision_score, recall_score, accuracy_score, f1_score \n",
    "from sklearn.neighbors import KNeighborsClassifier   \n",
    "from sklearn.preprocessing import StandardScaler \n",
    "from sklearn.tree import DecisionTreeClassifier   \n",
    "from sklearn.preprocessing import OneHotEncoder\n",
    "from sklearn import tree \n",
    "from sklearn.ensemble import BaggingClassifier, RandomForestClassifier \n",
    "from sklearn.feature_selection import SelectFromModel  \n",
    "from imblearn.over_sampling import SMOTE, ADASYN \n",
    "from sklearn.feature_selection import SelectKBest, f_regression,mutual_info_regression \n",
    "from sklearn.feature_selection import RFECV \n",
    "from sklearn.metrics import mean_squared_error"
   ]
  },
  {
   "cell_type": "markdown",
   "metadata": {},
   "source": [
    "#Since most all my models ended up wanting me to create dummies anyway I will just work with the the dataset where I have already done that."
   ]
  },
  {
   "cell_type": "code",
   "execution_count": 2,
   "metadata": {},
   "outputs": [
    {
     "data": {
      "text/html": [
       "<div>\n",
       "<style scoped>\n",
       "    .dataframe tbody tr th:only-of-type {\n",
       "        vertical-align: middle;\n",
       "    }\n",
       "\n",
       "    .dataframe tbody tr th {\n",
       "        vertical-align: top;\n",
       "    }\n",
       "\n",
       "    .dataframe thead th {\n",
       "        text-align: right;\n",
       "    }\n",
       "</style>\n",
       "<table border=\"1\" class=\"dataframe\">\n",
       "  <thead>\n",
       "    <tr style=\"text-align: right;\">\n",
       "      <th></th>\n",
       "      <th>age</th>\n",
       "      <th>height</th>\n",
       "      <th>works_in_tech</th>\n",
       "      <th>female</th>\n",
       "      <th>male</th>\n",
       "      <th>bisexual</th>\n",
       "      <th>gay</th>\n",
       "      <th>straight</th>\n",
       "      <th>body_average</th>\n",
       "      <th>body_curvy/full_figured</th>\n",
       "      <th>...</th>\n",
       "      <th>virgo</th>\n",
       "      <th>language_unknown</th>\n",
       "      <th>speaks_bengali</th>\n",
       "      <th>speaks_chinese</th>\n",
       "      <th>speaks_english</th>\n",
       "      <th>speaks_hindi</th>\n",
       "      <th>speaks_japanese</th>\n",
       "      <th>speaks_portuguese</th>\n",
       "      <th>speaks_russian</th>\n",
       "      <th>speaks_spanish</th>\n",
       "    </tr>\n",
       "  </thead>\n",
       "  <tbody>\n",
       "    <tr>\n",
       "      <th>0</th>\n",
       "      <td>22</td>\n",
       "      <td>75.0</td>\n",
       "      <td>0</td>\n",
       "      <td>0</td>\n",
       "      <td>1</td>\n",
       "      <td>0</td>\n",
       "      <td>0</td>\n",
       "      <td>1</td>\n",
       "      <td>0</td>\n",
       "      <td>1</td>\n",
       "      <td>...</td>\n",
       "      <td>0</td>\n",
       "      <td>0</td>\n",
       "      <td>0</td>\n",
       "      <td>0</td>\n",
       "      <td>1</td>\n",
       "      <td>0</td>\n",
       "      <td>0</td>\n",
       "      <td>0</td>\n",
       "      <td>0</td>\n",
       "      <td>0</td>\n",
       "    </tr>\n",
       "    <tr>\n",
       "      <th>1</th>\n",
       "      <td>35</td>\n",
       "      <td>70.0</td>\n",
       "      <td>0</td>\n",
       "      <td>0</td>\n",
       "      <td>1</td>\n",
       "      <td>0</td>\n",
       "      <td>0</td>\n",
       "      <td>1</td>\n",
       "      <td>1</td>\n",
       "      <td>0</td>\n",
       "      <td>...</td>\n",
       "      <td>0</td>\n",
       "      <td>0</td>\n",
       "      <td>0</td>\n",
       "      <td>0</td>\n",
       "      <td>0</td>\n",
       "      <td>0</td>\n",
       "      <td>0</td>\n",
       "      <td>0</td>\n",
       "      <td>0</td>\n",
       "      <td>1</td>\n",
       "    </tr>\n",
       "    <tr>\n",
       "      <th>2</th>\n",
       "      <td>29</td>\n",
       "      <td>66.0</td>\n",
       "      <td>0</td>\n",
       "      <td>0</td>\n",
       "      <td>1</td>\n",
       "      <td>0</td>\n",
       "      <td>0</td>\n",
       "      <td>1</td>\n",
       "      <td>0</td>\n",
       "      <td>0</td>\n",
       "      <td>...</td>\n",
       "      <td>0</td>\n",
       "      <td>0</td>\n",
       "      <td>0</td>\n",
       "      <td>0</td>\n",
       "      <td>1</td>\n",
       "      <td>0</td>\n",
       "      <td>0</td>\n",
       "      <td>0</td>\n",
       "      <td>0</td>\n",
       "      <td>0</td>\n",
       "    </tr>\n",
       "    <tr>\n",
       "      <th>3</th>\n",
       "      <td>29</td>\n",
       "      <td>67.0</td>\n",
       "      <td>1</td>\n",
       "      <td>0</td>\n",
       "      <td>1</td>\n",
       "      <td>0</td>\n",
       "      <td>0</td>\n",
       "      <td>1</td>\n",
       "      <td>1</td>\n",
       "      <td>0</td>\n",
       "      <td>...</td>\n",
       "      <td>0</td>\n",
       "      <td>0</td>\n",
       "      <td>0</td>\n",
       "      <td>1</td>\n",
       "      <td>0</td>\n",
       "      <td>0</td>\n",
       "      <td>0</td>\n",
       "      <td>0</td>\n",
       "      <td>0</td>\n",
       "      <td>0</td>\n",
       "    </tr>\n",
       "    <tr>\n",
       "      <th>4</th>\n",
       "      <td>31</td>\n",
       "      <td>65.0</td>\n",
       "      <td>0</td>\n",
       "      <td>1</td>\n",
       "      <td>0</td>\n",
       "      <td>0</td>\n",
       "      <td>0</td>\n",
       "      <td>1</td>\n",
       "      <td>1</td>\n",
       "      <td>0</td>\n",
       "      <td>...</td>\n",
       "      <td>0</td>\n",
       "      <td>0</td>\n",
       "      <td>0</td>\n",
       "      <td>0</td>\n",
       "      <td>0</td>\n",
       "      <td>0</td>\n",
       "      <td>0</td>\n",
       "      <td>0</td>\n",
       "      <td>0</td>\n",
       "      <td>1</td>\n",
       "    </tr>\n",
       "  </tbody>\n",
       "</table>\n",
       "<p>5 rows × 75 columns</p>\n",
       "</div>"
      ],
      "text/plain": [
       "   age  height  works_in_tech  female  male  bisexual  gay  straight  \\\n",
       "0   22    75.0              0       0     1         0    0         1   \n",
       "1   35    70.0              0       0     1         0    0         1   \n",
       "2   29    66.0              0       0     1         0    0         1   \n",
       "3   29    67.0              1       0     1         0    0         1   \n",
       "4   31    65.0              0       1     0         0    0         1   \n",
       "\n",
       "   body_average  body_curvy/full_figured  ...  virgo  language_unknown  \\\n",
       "0             0                        1  ...      0                 0   \n",
       "1             1                        0  ...      0                 0   \n",
       "2             0                        0  ...      0                 0   \n",
       "3             1                        0  ...      0                 0   \n",
       "4             1                        0  ...      0                 0   \n",
       "\n",
       "   speaks_bengali  speaks_chinese  speaks_english  speaks_hindi  \\\n",
       "0               0               0               1             0   \n",
       "1               0               0               0             0   \n",
       "2               0               0               1             0   \n",
       "3               0               1               0             0   \n",
       "4               0               0               0             0   \n",
       "\n",
       "   speaks_japanese  speaks_portuguese  speaks_russian  speaks_spanish  \n",
       "0                0                  0               0               0  \n",
       "1                0                  0               0               1  \n",
       "2                0                  0               0               0  \n",
       "3                0                  0               0               0  \n",
       "4                0                  0               0               1  \n",
       "\n",
       "[5 rows x 75 columns]"
      ]
     },
     "execution_count": 2,
     "metadata": {},
     "output_type": "execute_result"
    }
   ],
   "source": [
    "#Since most all my models ended up wanting me to create dummies anyway I will just work with the \n",
    "dfd = pd.read_csv('data_ad.csv') #Sets up dataframe that contains all dummies\n",
    "del dfd['Unnamed: 0'] #deletes old index column\n",
    "\n",
    "dfd.head()"
   ]
  },
  {
   "cell_type": "code",
   "execution_count": 3,
   "metadata": {},
   "outputs": [
    {
     "data": {
      "text/plain": [
       "0    28760\n",
       "1     9557\n",
       "Name: works_in_tech, dtype: int64"
      ]
     },
     "execution_count": 3,
     "metadata": {},
     "output_type": "execute_result"
    }
   ],
   "source": [
    "dfd.works_in_tech.value_counts()"
   ]
  },
  {
   "cell_type": "code",
   "execution_count": 4,
   "metadata": {},
   "outputs": [],
   "source": [
    "#Variable Set Up\n",
    "data = dfd.drop([\"works_in_tech\"],axis=1) \n",
    "target = dfd[\"works_in_tech\"]"
   ]
  },
  {
   "cell_type": "code",
   "execution_count": 5,
   "metadata": {},
   "outputs": [
    {
     "data": {
      "text/plain": [
       "0.2494193177962784"
      ]
     },
     "execution_count": 5,
     "metadata": {},
     "output_type": "execute_result"
    }
   ],
   "source": [
    "#Baseline Accuracy \n",
    "neg_obs = dfd.works_in_tech.value_counts()[0] \n",
    "pos_obs = dfd.works_in_tech.value_counts()[1] \n",
    "all_obs = neg_obs + pos_obs\n",
    "baseline_accuracy = pos_obs / all_obs \n",
    "baseline_accuracy"
   ]
  },
  {
   "cell_type": "markdown",
   "metadata": {},
   "source": [
    "## Model Test \n",
    "Now we can begin our model test with rebalanced classes using smote. "
   ]
  },
  {
   "cell_type": "markdown",
   "metadata": {},
   "source": [
    "#### Logistic Regression \n",
    "First I will look at logistic regression as well as a few metrics from the confusion matrix."
   ]
  },
  {
   "cell_type": "code",
   "execution_count": 6,
   "metadata": {},
   "outputs": [],
   "source": [
    "#Set Variables\n",
    "X = data\n",
    "y = target \n",
    "\n",
    "X_train, X_test, y_train, y_test = train_test_split(X, y, random_state=0)"
   ]
  },
  {
   "cell_type": "code",
   "execution_count": 7,
   "metadata": {},
   "outputs": [
    {
     "name": "stdout",
     "output_type": "stream",
     "text": [
      "1    21581\n",
      "0    21581\n",
      "Name: works_in_tech, dtype: int64\n"
     ]
    }
   ],
   "source": [
    "# Normalize the Data\n",
    "X = X.apply(lambda x : (x - x.min()) /(x.max() - x.min()),axis=0)\n",
    "\n",
    "# Split the data into train and test sets.\n",
    "X_train, X_test, y_train, y_test = train_test_split(X, y, random_state=0) \n",
    "\n",
    "#Rebalance with \n",
    "sm = SMOTE(sampling_strategy = 'minority', random_state = 123)\n",
    "X_train, y_train = sm.fit_resample(X_train, y_train)  \n",
    "\n",
    "print(pd.Series(y_train).value_counts())"
   ]
  },
  {
   "cell_type": "code",
   "execution_count": 8,
   "metadata": {},
   "outputs": [
    {
     "name": "stdout",
     "output_type": "stream",
     "text": [
      "LogisticRegression(C=1000000000000.0, fit_intercept=False, solver='liblinear')\n",
      "AUC: 0.728154546739852\n",
      "AUC: 0.728154546739852\n"
     ]
    },
    {
     "data": {
      "image/png": "[encoded data removed]",
      "text/plain": [
       "<Figure size 720x576 with 1 Axes>"
      ]
     },
     "metadata": {},
     "output_type": "display_data"
    }
   ],
   "source": [
    "# Fit a model\n",
    "logreg = LogisticRegression(fit_intercept=False, C=1e12, solver='liblinear')\n",
    "logreg.fit(X_train, y_train)\n",
    "print(logreg) # Preview model params\n",
    "\n",
    "# Predict\n",
    "y_hat_test = logreg.predict(X_test)\n",
    "\n",
    "# First calculate the probability scores of each of the datapoints:\n",
    "y_score = logreg.fit(X_train, y_train).decision_function(X_test)\n",
    "\n",
    "fpr, tpr, thresholds = roc_curve(y_test, y_score) \n",
    "\n",
    "#Calculate AUC \n",
    "print('AUC: {}'.format(auc(fpr, tpr))) \n",
    "#Example visualizing of ROC and AUC: \n",
    "import matplotlib.pyplot as plt\n",
    "import seaborn as sns\n",
    "%matplotlib inline\n",
    "\n",
    "# Set styling\n",
    "sns.set_style('darkgrid', {'axes.facecolor': '0.9'})\n",
    "\n",
    "print('AUC: {}'.format(auc(fpr, tpr)))\n",
    "plt.figure(figsize=(10, 8))\n",
    "lw = 2\n",
    "plt.plot(fpr, tpr, color='darkorange',\n",
    "         lw=lw, label='ROC curve')\n",
    "plt.plot([0, 1], [0, 1], color='navy', lw=lw, linestyle='--')\n",
    "plt.xlim([0.0, 1.0])\n",
    "plt.ylim([0.0, 1.05])\n",
    "plt.yticks([i/20.0 for i in range(21)])\n",
    "plt.xticks([i/20.0 for i in range(21)])\n",
    "plt.xlabel('False Positive Rate')\n",
    "plt.ylabel('True Positive Rate')\n",
    "plt.title('Receiver operating characteristic (ROC) Curve')\n",
    "plt.legend(loc='lower right')\n",
    "plt.show() "
   ]
  },
  {
   "cell_type": "code",
   "execution_count": 9,
   "metadata": {},
   "outputs": [
    {
     "name": "stdout",
     "output_type": "stream",
     "text": [
      "[[18863  9897]\n",
      " [ 3171  6386]]\n"
     ]
    },
    {
     "data": {
      "image/png": "[encoded data removed]",
      "text/plain": [
       "<Figure size 432x288 with 2 Axes>"
      ]
     },
     "metadata": {},
     "output_type": "display_data"
    }
   ],
   "source": [
    "y_pred = logreg.predict(X)\n",
    "#Get the confusion matrix\n",
    "cf_matrix = confusion_matrix(y, y_pred)\n",
    "print(cf_matrix)\n",
    "\n",
    "sns.heatmap(cf_matrix/np.sum(cf_matrix), annot=True, \n",
    "            fmt='.2%', cmap='Blues') \n",
    "plt.show()"
   ]
  },
  {
   "cell_type": "code",
   "execution_count": 10,
   "metadata": {},
   "outputs": [
    {
     "data": {
      "text/plain": [
       "LogisticRegression(C=1000000000000.0, fit_intercept=False, solver='liblinear')"
      ]
     },
     "execution_count": 10,
     "metadata": {},
     "output_type": "execute_result"
    }
   ],
   "source": [
    "# Fit to training data\n",
    "model_log = logreg.fit(X_train, y_train)\n",
    "model_log"
   ]
  },
  {
   "cell_type": "code",
   "execution_count": 11,
   "metadata": {},
   "outputs": [],
   "source": [
    "def precision(y, y_hat):\n",
    "    # Could also use confusion matrix\n",
    "    y_y_hat = list(zip(y, y_hat))\n",
    "    tp = sum([1 for i in y_y_hat if i[0] == 1 and i[1] == 1])\n",
    "    fp = sum([1 for i in y_y_hat if i[0] == 0 and i[1] == 1])\n",
    "    return tp / float(tp + fp) \n",
    "\n",
    "def recall(y, y_hat):\n",
    "    # Could also use confusion matrix\n",
    "    y_y_hat = list(zip(y, y_hat))\n",
    "    tp = sum([1 for i in y_y_hat if i[0] == 1 and i[1] == 1])\n",
    "    fn = sum([1 for i in y_y_hat if i[0] == 1 and i[1] == 0])\n",
    "    return tp / float(tp + fn) \n",
    "\n",
    "def accuracy(y, y_hat):\n",
    "    # Could also use confusion matrix\n",
    "    y_y_hat = list(zip(y, y_hat))\n",
    "    tp = sum([1 for i in y_y_hat if i[0] == 1 and i[1] == 1])\n",
    "    tn = sum([1 for i in y_y_hat if i[0] == 0 and i[1] == 0])\n",
    "    return (tp + tn) / float(len(y_hat)) \n",
    "\n",
    "def f1(y, y_hat):\n",
    "    precision_score = precision(y, y_hat)\n",
    "    recall_score = recall(y, y_hat)\n",
    "    numerator = precision_score * recall_score\n",
    "    denominator = precision_score + recall_score\n",
    "    return 2 * (numerator / denominator)"
   ]
  },
  {
   "cell_type": "code",
   "execution_count": 12,
   "metadata": {},
   "outputs": [
    {
     "name": "stdout",
     "output_type": "stream",
     "text": [
      "Training Precision:  0.6740868336204231\n",
      "Testing Precision:  0.3939831528279182\n",
      "\n",
      "\n",
      "\n",
      "Training Recall:  0.7071961447569621\n",
      "Testing Recall:  0.6817992503123699\n",
      "\n",
      "\n",
      "\n",
      "Training Accuracy:  0.6826375052129188\n",
      "Testing Accuracy:  0.65741127348643\n",
      "\n",
      "\n",
      "\n",
      "Training F1-Score:  0.6902446745963547\n",
      "Testing F1-Score:  0.4993898718730933\n"
     ]
    }
   ],
   "source": [
    "y_hat_train = logreg.predict(X_train)\n",
    "y_hat_test = logreg.predict(X_test)\n",
    "\n",
    "print('Training Precision: ', precision(y_train, y_hat_train))\n",
    "print('Testing Precision: ', precision(y_test, y_hat_test))\n",
    "print('\\n\\n')\n",
    "\n",
    "print('Training Recall: ', recall(y_train, y_hat_train))\n",
    "print('Testing Recall: ', recall(y_test, y_hat_test))\n",
    "print('\\n\\n')\n",
    "\n",
    "print('Training Accuracy: ', accuracy(y_train, y_hat_train))\n",
    "print('Testing Accuracy: ', accuracy(y_test, y_hat_test))\n",
    "print('\\n\\n')\n",
    "\n",
    "print('Training F1-Score: ', f1(y_train, y_hat_train))\n",
    "print('Testing F1-Score: ', f1(y_test, y_hat_test))"
   ]
  },
  {
   "cell_type": "markdown",
   "metadata": {},
   "source": [
    "#### Logistic Regression \n",
    "\n",
    "As compared to baseline accuracy as well as the unbalanced model test, this model does perform significantly better even before feature selection and any boosting. Though it is also rather overfit."
   ]
  },
  {
   "cell_type": "markdown",
   "metadata": {},
   "source": [
    "### KNN Model \n",
    "Now I will run my model without dummies thru a KNN model. "
   ]
  },
  {
   "cell_type": "code",
   "execution_count": 13,
   "metadata": {},
   "outputs": [],
   "source": [
    "df1 = dfd.copy()"
   ]
  },
  {
   "cell_type": "code",
   "execution_count": 14,
   "metadata": {},
   "outputs": [],
   "source": [
    "# Instantiate StandardScaler\n",
    "scaler = StandardScaler()\n",
    "\n",
    "# Transform the training and test sets\n",
    "scaled_data_train = scaler.fit_transform(X_train)\n",
    "scaled_data_test = scaler.transform(X_test)\n",
    "\n",
    "# Convert into a DataFrame\n",
    "scaled_df_train = pd.DataFrame(scaled_data_train, columns=data.columns)"
   ]
  },
  {
   "cell_type": "code",
   "execution_count": 15,
   "metadata": {},
   "outputs": [],
   "source": [
    "# Instantiate KNeighborsClassifier\n",
    "clf = KNeighborsClassifier()\n",
    "\n",
    "# Fit the classifier\n",
    "clf.fit(scaled_data_train, y_train)\n",
    "\n",
    "# Predict on the test set\n",
    "test_preds = clf.predict(scaled_data_test)"
   ]
  },
  {
   "cell_type": "code",
   "execution_count": 16,
   "metadata": {},
   "outputs": [
    {
     "name": "stdout",
     "output_type": "stream",
     "text": [
      "Precision Score: 0.32894736842105265\n",
      "Recall Score: 0.5830903790087464\n",
      "Accuracy Score: 0.5973903966597077\n",
      "F1 Score: 0.4206098843322818\n"
     ]
    }
   ],
   "source": [
    "def print_metrics(labels, preds):\n",
    "    print(\"Precision Score: {}\".format(precision_score(labels, preds)))\n",
    "    print(\"Recall Score: {}\".format(recall_score(labels, preds)))\n",
    "    print(\"Accuracy Score: {}\".format(accuracy_score(labels, preds)))\n",
    "    print(\"F1 Score: {}\".format(f1_score(labels, preds)))\n",
    "    \n",
    "print_metrics(y_test, test_preds)"
   ]
  },
  {
   "cell_type": "code",
   "execution_count": 17,
   "metadata": {},
   "outputs": [],
   "source": [
    "def find_best_k(X_train, y_train, X_test, y_test, min_k=1, max_k=25):\n",
    "    best_k = 0\n",
    "    best_score = 0.0\n",
    "    for k in range(min_k, max_k+1, 2):\n",
    "        knn = KNeighborsClassifier(n_neighbors=k)\n",
    "        knn.fit(X_train, y_train)\n",
    "        preds = knn.predict(X_test)\n",
    "        f1 = f1_score(y_test, preds)\n",
    "        if f1 > best_score:\n",
    "            best_k = k\n",
    "            best_score = f1\n",
    "    \n",
    "    print(\"Best Value for k: {}\".format(best_k))\n",
    "    print(\"F1-Score: {}\".format(best_score)) "
   ]
  },
  {
   "cell_type": "code",
   "execution_count": 18,
   "metadata": {},
   "outputs": [
    {
     "name": "stdout",
     "output_type": "stream",
     "text": [
      "Best Value for k: 23\n",
      "F1-Score: 0.4585686145764937\n"
     ]
    }
   ],
   "source": [
    "find_best_k(scaled_data_train, y_train, scaled_data_test, y_test) "
   ]
  },
  {
   "cell_type": "markdown",
   "metadata": {},
   "source": [
    "#### KNN Conclusion \n",
    "\n",
    "Although this model also performs better than the baseline and unbalanced dta models, it does not preform as well than the logistic regression model. "
   ]
  },
  {
   "cell_type": "markdown",
   "metadata": {},
   "source": [
    "### Decision Tree Model \n",
    "Now I will run my model without dummies thru a decision model. "
   ]
  },
  {
   "cell_type": "code",
   "execution_count": 19,
   "metadata": {},
   "outputs": [
    {
     "data": {
      "text/plain": [
       "DecisionTreeClassifier(criterion='entropy')"
      ]
     },
     "execution_count": 19,
     "metadata": {},
     "output_type": "execute_result"
    }
   ],
   "source": [
    "# Create the classifier, fit it on the training data and make predictions on the test set\n",
    "clf = DecisionTreeClassifier(criterion='entropy')\n",
    "clf.fit(X_train, y_train) "
   ]
  },
  {
   "cell_type": "code",
   "execution_count": 20,
   "metadata": {},
   "outputs": [
    {
     "name": "stdout",
     "output_type": "stream",
     "text": [
      "Training Precision:  0.6740868336204231\n",
      "Testing Precision:  0.3939831528279182\n",
      "\n",
      "\n",
      "\n",
      "Training Recall:  0.7071961447569621\n",
      "Testing Recall:  0.6817992503123699\n",
      "\n",
      "\n",
      "\n",
      "Training Accuracy:  0.6826375052129188\n",
      "Testing Accuracy:  0.65741127348643\n",
      "\n",
      "\n",
      "\n",
      "Training F1-Score:  0.6902446745963547\n",
      "Testing F1-Score:  0.4993898718730933\n"
     ]
    }
   ],
   "source": [
    "y_hat_train = logreg.predict(X_train)\n",
    "y_hat_test = logreg.predict(X_test)\n",
    "\n",
    "print('Training Precision: ', precision(y_train, y_hat_train))\n",
    "print('Testing Precision: ', precision(y_test, y_hat_test))\n",
    "print('\\n\\n')\n",
    "\n",
    "print('Training Recall: ', recall(y_train, y_hat_train))\n",
    "print('Testing Recall: ', recall(y_test, y_hat_test))\n",
    "print('\\n\\n')\n",
    "\n",
    "print('Training Accuracy: ', accuracy(y_train, y_hat_train))\n",
    "print('Testing Accuracy: ', accuracy(y_test, y_hat_test))\n",
    "print('\\n\\n')\n",
    "\n",
    "print('Training F1-Score: ', f1(y_train, y_hat_train))\n",
    "print('Testing F1-Score: ', f1(y_test, y_hat_test))"
   ]
  },
  {
   "cell_type": "markdown",
   "metadata": {},
   "source": [
    "#### Decision Tree Conclusion \n",
    "Decision tree also appears to perform better than the previous version but also appers overfit. "
   ]
  },
  {
   "cell_type": "markdown",
   "metadata": {},
   "source": [
    "### Random Forest Tree Model \n",
    "Now I will run my model without dummies thru a random forest model. "
   ]
  },
  {
   "cell_type": "code",
   "execution_count": 21,
   "metadata": {},
   "outputs": [
    {
     "data": {
      "text/plain": [
       "DecisionTreeClassifier(max_depth=5)"
      ]
     },
     "execution_count": 21,
     "metadata": {},
     "output_type": "execute_result"
    }
   ],
   "source": [
    "# Instantiate and fit a DecisionTreeClassifier\n",
    "tree_clf = DecisionTreeClassifier(criterion='gini', max_depth=5) \n",
    "tree_clf.fit(X_train, y_train)"
   ]
  },
  {
   "cell_type": "code",
   "execution_count": 22,
   "metadata": {},
   "outputs": [
    {
     "data": {
      "text/plain": [
       "DecisionTreeClassifier(max_depth=5, presort=False)"
      ]
     },
     "execution_count": 22,
     "metadata": {},
     "output_type": "execute_result"
    }
   ],
   "source": [
    "DecisionTreeClassifier(class_weight=None, criterion='gini', max_depth=5,\n",
    "                       max_features=None, max_leaf_nodes=None,\n",
    "                       min_impurity_decrease=0.0, min_impurity_split=None,\n",
    "                       min_samples_leaf=1, min_samples_split=2,\n",
    "                       min_weight_fraction_leaf=0.0, presort=False,\n",
    "                       random_state=None, splitter='best')"
   ]
  },
  {
   "cell_type": "code",
   "execution_count": 23,
   "metadata": {},
   "outputs": [
    {
     "name": "stdout",
     "output_type": "stream",
     "text": [
      "[[4159 3020]\n",
      " [ 739 1662]]\n",
      "              precision    recall  f1-score   support\n",
      "\n",
      "           0       0.85      0.58      0.69      7179\n",
      "           1       0.35      0.69      0.47      2401\n",
      "\n",
      "    accuracy                           0.61      9580\n",
      "   macro avg       0.60      0.64      0.58      9580\n",
      "weighted avg       0.73      0.61      0.63      9580\n",
      "\n"
     ]
    }
   ],
   "source": [
    "# Test set predictions\n",
    "pred = tree_clf.predict(X_test)\n",
    "\n",
    "# Confusion matrix and classification report\n",
    "print(confusion_matrix(y_test, pred))\n",
    "print(classification_report(y_test, pred))"
   ]
  },
  {
   "cell_type": "code",
   "execution_count": 24,
   "metadata": {},
   "outputs": [
    {
     "name": "stdout",
     "output_type": "stream",
     "text": [
      "Testing Accuracy for Decision Tree Classifier: 60.76%\n"
     ]
    }
   ],
   "source": [
    "print(\"Testing Accuracy for Decision Tree Classifier: {:.4}%\".format(accuracy_score(y_test, pred) * 100))"
   ]
  },
  {
   "cell_type": "code",
   "execution_count": 25,
   "metadata": {},
   "outputs": [
    {
     "data": {
      "text/plain": [
       "RandomForestClassifier(max_depth=5)"
      ]
     },
     "execution_count": 25,
     "metadata": {},
     "output_type": "execute_result"
    }
   ],
   "source": [
    "# Instantiate and fit a RandomForestClassifier\n",
    "forest = RandomForestClassifier(n_estimators=100, max_depth= 5)\n",
    "forest.fit(X_train, y_train)"
   ]
  },
  {
   "cell_type": "code",
   "execution_count": 26,
   "metadata": {},
   "outputs": [
    {
     "data": {
      "text/plain": [
       "RandomForestClassifier(max_depth=5, random_state=123)"
      ]
     },
     "execution_count": 26,
     "metadata": {},
     "output_type": "execute_result"
    }
   ],
   "source": [
    "RandomForestClassifier(bootstrap=True, class_weight=None, criterion='gini',\n",
    "                       max_depth=5, max_features='auto', max_leaf_nodes=None,\n",
    "                       min_impurity_decrease=0.0, min_impurity_split=None,\n",
    "                       min_samples_leaf=1, min_samples_split=2,\n",
    "                       min_weight_fraction_leaf=0.0, n_estimators=100,\n",
    "                       n_jobs=None, oob_score=False, random_state=123,\n",
    "                       verbose=0, warm_start=False)"
   ]
  },
  {
   "cell_type": "code",
   "execution_count": 27,
   "metadata": {},
   "outputs": [
    {
     "name": "stdout",
     "output_type": "stream",
     "text": [
      "[[4465 2714]\n",
      " [ 725 1676]]\n",
      "              precision    recall  f1-score   support\n",
      "\n",
      "           0       0.86      0.62      0.72      7179\n",
      "           1       0.38      0.70      0.49      2401\n",
      "\n",
      "    accuracy                           0.64      9580\n",
      "   macro avg       0.62      0.66      0.61      9580\n",
      "weighted avg       0.74      0.64      0.66      9580\n",
      "\n"
     ]
    }
   ],
   "source": [
    "# Test set predictions\n",
    "pred = forest.predict(X_test)\n",
    "\n",
    "# Confusion matrix and classification report\n",
    "print(confusion_matrix(y_test, pred))\n",
    "print(classification_report(y_test, pred))"
   ]
  },
  {
   "cell_type": "markdown",
   "metadata": {},
   "source": [
    "### Random Forest \n",
    "This model appears to perform the best of the models I tried and so will be moving forward with this model after performing a bit of feature selection. While I have already begun a bit of that here, I will be doing a few more feature selection tests in the next section before making my final selection. "
   ]
  },
  {
   "cell_type": "markdown",
   "metadata": {},
   "source": [
    "## Feature Selection  \n",
    "\n",
    "I will now use random forest to select which features to move forward with. "
   ]
  },
  {
   "cell_type": "code",
   "execution_count": 28,
   "metadata": {},
   "outputs": [
    {
     "data": {
      "text/plain": [
       "75"
      ]
     },
     "execution_count": 28,
     "metadata": {},
     "output_type": "execute_result"
    }
   ],
   "source": [
    "len(dfd.columns)"
   ]
  },
  {
   "cell_type": "code",
   "execution_count": 29,
   "metadata": {},
   "outputs": [],
   "source": [
    "feat_labels = ['age', 'height', 'female', 'male', 'bisexual', 'gay', 'straight', 'body_average', 'body_curvy/full_figured', 'body_fit/athletic', 'body_thin/skinny', \n",
    "               'unknown_body_type',  'diet_anything', 'diet_other', 'diet_vegan/vegetarian', 'unkown_diet','drinks_rarely/not_at_all', 'unknown_if_drinker', 'no_drugs',\n",
    "               'unknown_if_drugs', 'college_graduate_or_higher', 'no_college_degree','unknown_education', 'asian', 'black', 'ethnicity_other/unknown',  'hispanic/latin', \n",
    "               'indian', 'middle_eastern', 'white', 'has_kids', 'no_kids', 'unknown_if_kids', 'dislikes_cats_and_or_dogs', 'likes_cats',  'likes_dogs', 'likes_dogs_and_cats',\n",
    "               'unknown_pet_feelings', 'agnosticism', 'atheism', 'buddhism', 'catholicism', 'christianity','hinduism', 'islam', 'judaism', 'religion_other/unknown',\n",
    "               'does_not_smoke', 'unknown_if_smokes', 'not_above_average_height', 'not_san_francisco', 'san_francisco_ca', 'aquarius', 'aries', 'cancer', 'capricorn', \n",
    "               'gemini', 'leo', 'libra', 'pisces', 'sagittarius', 'scorpio', 'sign_unknown', 'taurus', 'virgo', 'language_unknown','speaks_bengali', 'speaks_chinese', \n",
    "               'speaks_english', 'speaks_hindi', 'speaks_japanese', 'speaks_portuguese', 'speaks_russian', 'speaks_spanish']"
   ]
  },
  {
   "cell_type": "code",
   "execution_count": 30,
   "metadata": {},
   "outputs": [
    {
     "name": "stdout",
     "output_type": "stream",
     "text": [
      "('age', 0.0850507017364356)\n",
      "('height', 0.08714575358191554)\n",
      "('female', 0.04088925513740705)\n",
      "('male', 0.04083211035273725)\n",
      "('bisexual', 0.003021089759551016)\n",
      "('gay', 0.009943337365736295)\n",
      "('straight', 0.012409465960618161)\n",
      "('body_average', 0.01500927749524342)\n",
      "('body_curvy/full_figured', 0.011805381362815965)\n",
      "('body_fit/athletic', 0.018465393185902165)\n",
      "('body_thin/skinny', 0.00930948070073143)\n",
      "('unknown_body_type', 0.008260499053122391)\n",
      "('diet_anything', 0.017034571231823385)\n",
      "('diet_other', 0.0045156221343091675)\n",
      "('diet_vegan/vegetarian', 0.008777403637753168)\n",
      "('unkown_diet', 0.015676857473155403)\n",
      "('drinks_rarely/not_at_all', 0.016433004795624987)\n",
      "('unknown_if_drinker', 0.004445764980490294)\n",
      "('no_drugs', 0.018035442606751453)\n",
      "('unknown_if_drugs', 0.014438177771130092)\n",
      "('college_graduate_or_higher', 0.018453991321656177)\n",
      "('no_college_degree', 0.010351067552331018)\n",
      "('unknown_education', 0.007220335141832885)\n",
      "('asian', 0.011105350184669287)\n",
      "('black', 0.006259067830789479)\n",
      "('ethnicity_other/unknown', 0.010703127621448502)\n",
      "('hispanic/latin', 0.007452834344934434)\n",
      "('indian', 0.004459096110866988)\n",
      "('middle_eastern', 0.0022594798570563838)\n",
      "('white', 0.018988099588017556)\n",
      "('has_kids', 0.008715575675564339)\n",
      "('no_kids', 0.014593227086591148)\n",
      "('unknown_if_kids', 0.015272357033396872)\n",
      "('dislikes_cats_and_or_dogs', 0.0013579921989442657)\n",
      "('likes_cats', 0.006629711357755902)\n",
      "('likes_dogs', 0.016247139582425987)\n",
      "('likes_dogs_and_cats', 0.01700007184056423)\n",
      "('unknown_pet_feelings', 0.015418419757610838)\n",
      "('agnosticism', 0.014919109711246853)\n",
      "('atheism', 0.02423390418240982)\n",
      "('buddhism', 0.004108798762531084)\n",
      "('catholicism', 0.009860179319109406)\n",
      "('christianity', 0.010088488742352455)\n",
      "('hinduism', 0.0011539402525228529)\n",
      "('islam', 0.00034236158646025965)\n",
      "('judaism', 0.006268132739541476)\n",
      "('religion_other/unknown', 0.019030842105742487)\n",
      "('does_not_smoke', 0.03010937179996426)\n",
      "('unknown_if_smokes', 0.006455253484893754)\n",
      "('not_above_average_height', 0.010275958092345439)\n",
      "('not_san_francisco', 0.015032366159152799)\n",
      "('san_francisco_ca', 0.015006293736869458)\n",
      "('aquarius', 0.009763169677173835)\n",
      "('aries', 0.008693198044873753)\n",
      "('cancer', 0.010017343027588166)\n",
      "('capricorn', 0.008639605252755166)\n",
      "('gemini', 0.00937685110523216)\n",
      "('leo', 0.00981511935611919)\n",
      "('libra', 0.010455579008541212)\n",
      "('pisces', 0.009001287146051293)\n",
      "('sagittarius', 0.009228870939011523)\n",
      "('scorpio', 0.01008921181062693)\n",
      "('sign_unknown', 0.03079306059415473)\n",
      "('taurus', 0.009624180743092955)\n",
      "('virgo', 0.009917630462580871)\n",
      "('language_unknown', 0.00013111083066667567)\n",
      "('speaks_bengali', 0.00036300613849241575)\n",
      "('speaks_chinese', 0.006008253946853649)\n",
      "('speaks_english', 0.016740946997863822)\n",
      "('speaks_hindi', 0.002891745489568446)\n",
      "('speaks_japanese', 0.0060316432912396805)\n",
      "('speaks_portuguese', 0.002763554409321416)\n",
      "('speaks_russian', 0.004344020819783373)\n",
      "('speaks_spanish', 0.014440075823555847)\n"
     ]
    }
   ],
   "source": [
    "# Create a forest classifier\n",
    "clf = RandomForestClassifier(n_estimators=10000, random_state=0, n_jobs=-1)\n",
    "\n",
    "# Train the classifier\n",
    "clf.fit(X_train, y_train)\n",
    "\n",
    "# Print the name and gini importance of each feature\n",
    "for feature in zip(feat_labels, clf.feature_importances_):\n",
    "    print(feature)"
   ]
  },
  {
   "cell_type": "code",
   "execution_count": 31,
   "metadata": {},
   "outputs": [
    {
     "data": {
      "text/plain": [
       "SelectFromModel(estimator=RandomForestClassifier(n_estimators=10000, n_jobs=-1,\n",
       "                                                 random_state=0),\n",
       "                threshold=0.0099)"
      ]
     },
     "execution_count": 31,
     "metadata": {},
     "output_type": "execute_result"
    }
   ],
   "source": [
    "# Create a selector object that will use the random forest classifier to identify\n",
    "# features that have an importance of more than 0.\n",
    "sfm = SelectFromModel(clf, threshold=0.0099)\n",
    "\n",
    "# Train the selector\n",
    "sfm.fit(X_train, y_train)"
   ]
  },
  {
   "cell_type": "code",
   "execution_count": 32,
   "metadata": {},
   "outputs": [
    {
     "name": "stdout",
     "output_type": "stream",
     "text": [
      "age\n",
      "height\n",
      "female\n",
      "male\n",
      "gay\n",
      "straight\n",
      "body_average\n",
      "body_curvy/full_figured\n",
      "body_fit/athletic\n",
      "diet_anything\n",
      "unkown_diet\n",
      "drinks_rarely/not_at_all\n",
      "no_drugs\n",
      "unknown_if_drugs\n",
      "college_graduate_or_higher\n",
      "no_college_degree\n",
      "asian\n",
      "ethnicity_other/unknown\n",
      "white\n",
      "no_kids\n",
      "unknown_if_kids\n",
      "likes_dogs\n",
      "likes_dogs_and_cats\n",
      "unknown_pet_feelings\n",
      "agnosticism\n",
      "atheism\n",
      "christianity\n",
      "religion_other/unknown\n",
      "does_not_smoke\n",
      "not_above_average_height\n",
      "not_san_francisco\n",
      "san_francisco_ca\n",
      "cancer\n",
      "libra\n",
      "scorpio\n",
      "sign_unknown\n",
      "virgo\n",
      "speaks_english\n",
      "speaks_spanish\n"
     ]
    }
   ],
   "source": [
    "# Print the names of the most important features\n",
    "for feature_list_index in sfm.get_support(indices=True):\n",
    "    print(feat_labels[feature_list_index])"
   ]
  },
  {
   "cell_type": "code",
   "execution_count": 45,
   "metadata": {},
   "outputs": [
    {
     "data": {
      "text/html": [
       "<div>\n",
       "<style scoped>\n",
       "    .dataframe tbody tr th:only-of-type {\n",
       "        vertical-align: middle;\n",
       "    }\n",
       "\n",
       "    .dataframe tbody tr th {\n",
       "        vertical-align: top;\n",
       "    }\n",
       "\n",
       "    .dataframe thead th {\n",
       "        text-align: right;\n",
       "    }\n",
       "</style>\n",
       "<table border=\"1\" class=\"dataframe\">\n",
       "  <thead>\n",
       "    <tr style=\"text-align: right;\">\n",
       "      <th></th>\n",
       "      <th>age</th>\n",
       "      <th>height</th>\n",
       "      <th>female</th>\n",
       "      <th>male</th>\n",
       "      <th>gay</th>\n",
       "      <th>straight</th>\n",
       "      <th>body_average</th>\n",
       "      <th>body_curvy/full_figured</th>\n",
       "      <th>body_fit/athletic</th>\n",
       "      <th>diet_anything</th>\n",
       "      <th>...</th>\n",
       "      <th>san_francisco_ca</th>\n",
       "      <th>cancer</th>\n",
       "      <th>capricorn</th>\n",
       "      <th>libra</th>\n",
       "      <th>scorpio</th>\n",
       "      <th>sign_unknown</th>\n",
       "      <th>virgo</th>\n",
       "      <th>speaks_english</th>\n",
       "      <th>speaks_spanish</th>\n",
       "      <th>works_in_tech</th>\n",
       "    </tr>\n",
       "  </thead>\n",
       "  <tbody>\n",
       "    <tr>\n",
       "      <th>0</th>\n",
       "      <td>22</td>\n",
       "      <td>75.0</td>\n",
       "      <td>0</td>\n",
       "      <td>1</td>\n",
       "      <td>0</td>\n",
       "      <td>1</td>\n",
       "      <td>0</td>\n",
       "      <td>1</td>\n",
       "      <td>0</td>\n",
       "      <td>1</td>\n",
       "      <td>...</td>\n",
       "      <td>1</td>\n",
       "      <td>0</td>\n",
       "      <td>0</td>\n",
       "      <td>0</td>\n",
       "      <td>0</td>\n",
       "      <td>0</td>\n",
       "      <td>0</td>\n",
       "      <td>1</td>\n",
       "      <td>0</td>\n",
       "      <td>0</td>\n",
       "    </tr>\n",
       "    <tr>\n",
       "      <th>1</th>\n",
       "      <td>35</td>\n",
       "      <td>70.0</td>\n",
       "      <td>0</td>\n",
       "      <td>1</td>\n",
       "      <td>0</td>\n",
       "      <td>1</td>\n",
       "      <td>1</td>\n",
       "      <td>0</td>\n",
       "      <td>0</td>\n",
       "      <td>0</td>\n",
       "      <td>...</td>\n",
       "      <td>0</td>\n",
       "      <td>1</td>\n",
       "      <td>0</td>\n",
       "      <td>0</td>\n",
       "      <td>0</td>\n",
       "      <td>0</td>\n",
       "      <td>0</td>\n",
       "      <td>0</td>\n",
       "      <td>1</td>\n",
       "      <td>0</td>\n",
       "    </tr>\n",
       "    <tr>\n",
       "      <th>2</th>\n",
       "      <td>29</td>\n",
       "      <td>66.0</td>\n",
       "      <td>0</td>\n",
       "      <td>1</td>\n",
       "      <td>0</td>\n",
       "      <td>1</td>\n",
       "      <td>0</td>\n",
       "      <td>0</td>\n",
       "      <td>1</td>\n",
       "      <td>0</td>\n",
       "      <td>...</td>\n",
       "      <td>1</td>\n",
       "      <td>0</td>\n",
       "      <td>0</td>\n",
       "      <td>0</td>\n",
       "      <td>0</td>\n",
       "      <td>0</td>\n",
       "      <td>0</td>\n",
       "      <td>1</td>\n",
       "      <td>0</td>\n",
       "      <td>0</td>\n",
       "    </tr>\n",
       "    <tr>\n",
       "      <th>3</th>\n",
       "      <td>29</td>\n",
       "      <td>67.0</td>\n",
       "      <td>0</td>\n",
       "      <td>1</td>\n",
       "      <td>0</td>\n",
       "      <td>1</td>\n",
       "      <td>1</td>\n",
       "      <td>0</td>\n",
       "      <td>0</td>\n",
       "      <td>1</td>\n",
       "      <td>...</td>\n",
       "      <td>1</td>\n",
       "      <td>0</td>\n",
       "      <td>0</td>\n",
       "      <td>0</td>\n",
       "      <td>0</td>\n",
       "      <td>0</td>\n",
       "      <td>0</td>\n",
       "      <td>0</td>\n",
       "      <td>0</td>\n",
       "      <td>1</td>\n",
       "    </tr>\n",
       "    <tr>\n",
       "      <th>4</th>\n",
       "      <td>31</td>\n",
       "      <td>65.0</td>\n",
       "      <td>1</td>\n",
       "      <td>0</td>\n",
       "      <td>0</td>\n",
       "      <td>1</td>\n",
       "      <td>1</td>\n",
       "      <td>0</td>\n",
       "      <td>0</td>\n",
       "      <td>1</td>\n",
       "      <td>...</td>\n",
       "      <td>1</td>\n",
       "      <td>0</td>\n",
       "      <td>0</td>\n",
       "      <td>0</td>\n",
       "      <td>0</td>\n",
       "      <td>0</td>\n",
       "      <td>0</td>\n",
       "      <td>0</td>\n",
       "      <td>1</td>\n",
       "      <td>0</td>\n",
       "    </tr>\n",
       "  </tbody>\n",
       "</table>\n",
       "<p>5 rows × 41 columns</p>\n",
       "</div>"
      ],
      "text/plain": [
       "   age  height  female  male  gay  straight  body_average  \\\n",
       "0   22    75.0       0     1    0         1             0   \n",
       "1   35    70.0       0     1    0         1             1   \n",
       "2   29    66.0       0     1    0         1             0   \n",
       "3   29    67.0       0     1    0         1             1   \n",
       "4   31    65.0       1     0    0         1             1   \n",
       "\n",
       "   body_curvy/full_figured  body_fit/athletic  diet_anything  ...  \\\n",
       "0                        1                  0              1  ...   \n",
       "1                        0                  0              0  ...   \n",
       "2                        0                  1              0  ...   \n",
       "3                        0                  0              1  ...   \n",
       "4                        0                  0              1  ...   \n",
       "\n",
       "   san_francisco_ca  cancer  capricorn  libra  scorpio  sign_unknown  virgo  \\\n",
       "0                 1       0          0      0        0             0      0   \n",
       "1                 0       1          0      0        0             0      0   \n",
       "2                 1       0          0      0        0             0      0   \n",
       "3                 1       0          0      0        0             0      0   \n",
       "4                 1       0          0      0        0             0      0   \n",
       "\n",
       "   speaks_english  speaks_spanish  works_in_tech  \n",
       "0               1               0              0  \n",
       "1               0               1              0  \n",
       "2               1               0              0  \n",
       "3               0               0              1  \n",
       "4               0               1              0  \n",
       "\n",
       "[5 rows x 41 columns]"
      ]
     },
     "execution_count": 45,
     "metadata": {},
     "output_type": "execute_result"
    }
   ],
   "source": [
    "selected_feat = [ 'age', 'height', 'female', 'male', 'gay', 'straight', 'body_average', 'body_curvy/full_figured', 'body_fit/athletic', 'diet_anything', 'unkown_diet',\n",
    "                 'drinks_rarely/not_at_all', 'no_drugs', 'unknown_if_drugs', 'college_graduate_or_higher', 'no_college_degree', 'asian', 'ethnicity_other/unknown',  'white', \n",
    "                 'no_kids', 'unknown_if_kids', 'likes_dogs', 'likes_dogs_and_cats', 'unknown_pet_feelings', 'agnosticism', 'atheism', 'christianity', 'religion_other/unknown',\n",
    "                 'does_not_smoke', 'not_above_average_height', 'not_san_francisco', 'san_francisco_ca', 'cancer', 'capricorn', 'libra', 'scorpio', 'sign_unknown', 'virgo', \n",
    "                 'speaks_english', 'speaks_spanish' , 'works_in_tech'] \n",
    "sel_feat_ds = dfd[selected_feat] \n",
    "sel_feat_ds.head()"
   ]
  },
  {
   "cell_type": "code",
   "execution_count": 34,
   "metadata": {},
   "outputs": [],
   "source": [
    "# Transform the data to create a new dataset containing only the most important features\n",
    "# Note: We have to apply the transform to both the training X and test X data.\n",
    "X_important_train = sfm.transform(X_train)\n",
    "X_important_test = sfm.transform(X_test)"
   ]
  },
  {
   "cell_type": "code",
   "execution_count": 35,
   "metadata": {},
   "outputs": [
    {
     "data": {
      "text/plain": [
       "RandomForestClassifier(n_estimators=10000, n_jobs=-1, random_state=0)"
      ]
     },
     "execution_count": 35,
     "metadata": {},
     "output_type": "execute_result"
    }
   ],
   "source": [
    "# Create a new random forest classifier for the most important features\n",
    "clf_important = RandomForestClassifier(n_estimators=10000, random_state=0, n_jobs=-1)\n",
    "\n",
    "# Train the new classifier on the new dataset containing the most important features\n",
    "clf_important.fit(X_important_train, y_train)"
   ]
  },
  {
   "cell_type": "code",
   "execution_count": 36,
   "metadata": {},
   "outputs": [
    {
     "data": {
      "text/plain": [
       "0.7548016701461377"
      ]
     },
     "execution_count": 36,
     "metadata": {},
     "output_type": "execute_result"
    }
   ],
   "source": [
    "# Apply The Full Featured Classifier To The Test Data\n",
    "y_pred = clf.predict(X_test)\n",
    "\n",
    "# View The Accuracy Of Our Full Feature (4 Features) Model\n",
    "accuracy_score(y_test, y_pred)"
   ]
  },
  {
   "cell_type": "code",
   "execution_count": 37,
   "metadata": {},
   "outputs": [
    {
     "data": {
      "text/plain": [
       "0.7453027139874739"
      ]
     },
     "execution_count": 37,
     "metadata": {},
     "output_type": "execute_result"
    }
   ],
   "source": [
    "# Apply The Full Featured Classifier To The Test Data\n",
    "y_important_pred = clf_important.predict(X_important_test)\n",
    "\n",
    "# View The Accuracy Of Our Limited Feature (2 Features) Model\n",
    "accuracy_score(y_test, y_important_pred)"
   ]
  },
  {
   "cell_type": "markdown",
   "metadata": {},
   "source": [
    "# Conclusion \n",
    "\n",
    "In my final notebook, I will give a brief recap of everything I have done here as well as work to improve my chosen model and discuss the the business case use for it.  "
   ]
  },
  {
   "cell_type": "code",
   "execution_count": 46,
   "metadata": {},
   "outputs": [],
   "source": [
    "sel_feat_ds.to_csv('selected_feat_data.csv')"
   ]
  },
  {
   "cell_type": "code",
   "execution_count": null,
   "metadata": {},
   "outputs": [],
   "source": []
  }
 ],
 "metadata": {
  "kernelspec": {
   "display_name": "learn-env",
   "language": "python",
   "name": "learn-env"
  },
  "language_info": {
   "codemirror_mode": {
    "name": "ipython",
    "version": 3
   },
   "file_extension": ".py",
   "mimetype": "text/x-python",
   "name": "python",
   "nbconvert_exporter": "python",
   "pygments_lexer": "ipython3",
   "version": "3.6.9"
  }
 },
 "nbformat": 4,
 "nbformat_minor": 4
}
