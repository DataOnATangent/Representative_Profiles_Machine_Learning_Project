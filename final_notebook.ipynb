{
 "cells": [
  {
   "cell_type": "markdown",
   "metadata": {},
   "source": [
    "# Exploring the Profiles of Tech Workers \n",
    "\n",
    "In the US we like to think that we are the melting pot of the world. However we know that sometimes that mixture does not happen evenly or smoothly. With this in mind, I choose to see if I could develop a model that accurately predicts whether or not someone works in the tech soace based on physical features and other demographic info typically found on a dating site. Below you will find a recap of the steps taken to reach that goal as well as my full process of impoving that model. "
   ]
  },
  {
   "cell_type": "markdown",
   "metadata": {},
   "source": [
    "## Data Collection, Preprocessing, and Feature Engineering\n",
    "\n",
    "The data I decided to use was found on kaggle (link below) and was originally collected from the website/app OKCupid in the San Francisco, CA area in 2012. This data originally contained 60k observations and 31 columns. Of the 31 columns, 10 were essay columns which were dropped along with the income column, due to a high percentage of missing columns, and the \"last online\" column, due to its irrelevance to this project. Status was also dropped due to the fact that since the data came from a dating website, nearly all observations belong to the \"single\" class. The file containing the clean up process can be found in the folder: data_exploration, under the name: raw_preprocessing_do_not_run.ipynb. Please not that due to githubs size limitations, the original unprocessed file has not been included within this repo. \n",
    "\n",
    "Due to nature of the features included the data was heavily preproccessed with every feature being affected in some way. Of the 18 remaining 16 were categorical because of this each one was handeled individually and with doman taken into account. Examples of this include grouping similar group together and removing attitudes from responses, as well as creating a new 'unknown' class for observations with missing entries with the assumption that there might be a different between somone who chose to answer the given question and someone who did not. This is accounts for the majority of feature engineering in my project. In addition to this, a binary column was added relating to whether or not somone was above average height and job catagory was also changed into a binary to discuss the target in question for my purposes which was people who work in tech. \n",
    "\n",
    "[Go to Kaggle Data](https://www.kaggle.com/andrewmvd/okcupid-profiles)"
   ]
  },
  {
   "cell_type": "markdown",
   "metadata": {},
   "source": [
    "## Exploratory Data Analysis\n",
    "\n",
    "The exploratory pro"
   ]
  },
  {
   "cell_type": "code",
   "execution_count": null,
   "metadata": {},
   "outputs": [],
   "source": []
  },
  {
   "cell_type": "code",
   "execution_count": null,
   "metadata": {},
   "outputs": [],
   "source": []
  },
  {
   "cell_type": "code",
   "execution_count": null,
   "metadata": {},
   "outputs": [],
   "source": []
  },
  {
   "cell_type": "code",
   "execution_count": null,
   "metadata": {},
   "outputs": [],
   "source": []
  },
  {
   "cell_type": "code",
   "execution_count": null,
   "metadata": {},
   "outputs": [],
   "source": []
  },
  {
   "cell_type": "code",
   "execution_count": null,
   "metadata": {},
   "outputs": [],
   "source": []
  },
  {
   "cell_type": "code",
   "execution_count": null,
   "metadata": {},
   "outputs": [],
   "source": []
  },
  {
   "cell_type": "code",
   "execution_count": null,
   "metadata": {},
   "outputs": [],
   "source": []
  },
  {
   "cell_type": "code",
   "execution_count": null,
   "metadata": {},
   "outputs": [],
   "source": []
  },
  {
   "cell_type": "code",
   "execution_count": null,
   "metadata": {},
   "outputs": [],
   "source": []
  },
  {
   "cell_type": "code",
   "execution_count": null,
   "metadata": {},
   "outputs": [],
   "source": []
  },
  {
   "cell_type": "code",
   "execution_count": null,
   "metadata": {},
   "outputs": [],
   "source": []
  },
  {
   "cell_type": "code",
   "execution_count": null,
   "metadata": {},
   "outputs": [],
   "source": []
  },
  {
   "cell_type": "code",
   "execution_count": null,
   "metadata": {},
   "outputs": [],
   "source": []
  },
  {
   "cell_type": "code",
   "execution_count": null,
   "metadata": {},
   "outputs": [],
   "source": []
  },
  {
   "cell_type": "code",
   "execution_count": null,
   "metadata": {},
   "outputs": [],
   "source": []
  },
  {
   "cell_type": "code",
   "execution_count": null,
   "metadata": {},
   "outputs": [],
   "source": []
  },
  {
   "cell_type": "code",
   "execution_count": null,
   "metadata": {},
   "outputs": [],
   "source": []
  },
  {
   "cell_type": "code",
   "execution_count": null,
   "metadata": {},
   "outputs": [],
   "source": []
  }
 ],
 "metadata": {
  "kernelspec": {
   "display_name": "learn-env",
   "language": "python",
   "name": "learn-env"
  },
  "language_info": {
   "codemirror_mode": {
    "name": "ipython",
    "version": 3
   },
   "file_extension": ".py",
   "mimetype": "text/x-python",
   "name": "python",
   "nbconvert_exporter": "python",
   "pygments_lexer": "ipython3",
   "version": "3.6.9"
  }
 },
 "nbformat": 4,
 "nbformat_minor": 4
}
