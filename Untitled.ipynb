{
 "cells": [
  {
   "cell_type": "code",
   "execution_count": 2,
   "metadata": {},
   "outputs": [],
   "source": [
    "import pandas as pd \n",
    "import numpy as np \n",
    "import warnings\n",
    "warnings.filterwarnings(\"ignore\")"
   ]
  },
  {
   "cell_type": "code",
   "execution_count": 7,
   "metadata": {},
   "outputs": [],
   "source": [
    "data = pd.read_csv('processed_data.csv')   \n",
    "data = data.drop(columns='Unnamed: 0')"
   ]
  },
  {
   "cell_type": "code",
   "execution_count": 8,
   "metadata": {},
   "outputs": [
    {
     "data": {
      "text/html": [
       "<div>\n",
       "<style scoped>\n",
       "    .dataframe tbody tr th:only-of-type {\n",
       "        vertical-align: middle;\n",
       "    }\n",
       "\n",
       "    .dataframe tbody tr th {\n",
       "        vertical-align: top;\n",
       "    }\n",
       "\n",
       "    .dataframe thead th {\n",
       "        text-align: right;\n",
       "    }\n",
       "</style>\n",
       "<table border=\"1\" class=\"dataframe\">\n",
       "  <thead>\n",
       "    <tr style=\"text-align: right;\">\n",
       "      <th></th>\n",
       "      <th>age</th>\n",
       "      <th>sex</th>\n",
       "      <th>orientation</th>\n",
       "      <th>body_type</th>\n",
       "      <th>diet</th>\n",
       "      <th>drinks</th>\n",
       "      <th>drugs</th>\n",
       "      <th>education</th>\n",
       "      <th>ethnicity</th>\n",
       "      <th>height</th>\n",
       "      <th>job</th>\n",
       "      <th>location</th>\n",
       "      <th>offspring</th>\n",
       "      <th>pets</th>\n",
       "      <th>religion</th>\n",
       "      <th>sign</th>\n",
       "      <th>smokes</th>\n",
       "      <th>job_catagories</th>\n",
       "      <th>above_average_height</th>\n",
       "    </tr>\n",
       "  </thead>\n",
       "  <tbody>\n",
       "    <tr>\n",
       "      <th>0</th>\n",
       "      <td>22</td>\n",
       "      <td>m</td>\n",
       "      <td>heterosexual</td>\n",
       "      <td>curvy/full_figured</td>\n",
       "      <td>anything</td>\n",
       "      <td>drinks</td>\n",
       "      <td>no_drugs</td>\n",
       "      <td>no_college_degree</td>\n",
       "      <td>asian</td>\n",
       "      <td>75.0</td>\n",
       "      <td>transportation</td>\n",
       "      <td>san_francisco_ca</td>\n",
       "      <td>no_kids</td>\n",
       "      <td>likes_dogs_and_cats</td>\n",
       "      <td>agnosticism</td>\n",
       "      <td>gemini</td>\n",
       "      <td>smokes</td>\n",
       "      <td>public_services</td>\n",
       "      <td>1</td>\n",
       "    </tr>\n",
       "    <tr>\n",
       "      <th>1</th>\n",
       "      <td>35</td>\n",
       "      <td>m</td>\n",
       "      <td>heterosexual</td>\n",
       "      <td>average</td>\n",
       "      <td>other</td>\n",
       "      <td>drinks</td>\n",
       "      <td>drugs</td>\n",
       "      <td>unknown_education</td>\n",
       "      <td>white</td>\n",
       "      <td>70.0</td>\n",
       "      <td>hospitality / travel</td>\n",
       "      <td>not_san_francisco</td>\n",
       "      <td>no_kids</td>\n",
       "      <td>likes_dogs_and_cats</td>\n",
       "      <td>agnosticism</td>\n",
       "      <td>cancer</td>\n",
       "      <td>does_not_smoke</td>\n",
       "      <td>public_services</td>\n",
       "      <td>1</td>\n",
       "    </tr>\n",
       "    <tr>\n",
       "      <th>2</th>\n",
       "      <td>29</td>\n",
       "      <td>m</td>\n",
       "      <td>heterosexual</td>\n",
       "      <td>fit/athletic</td>\n",
       "      <td>anything</td>\n",
       "      <td>drinks</td>\n",
       "      <td>no_drugs</td>\n",
       "      <td>college_graduate_or_higher</td>\n",
       "      <td>asian</td>\n",
       "      <td>66.0</td>\n",
       "      <td>artistic / musical / writer</td>\n",
       "      <td>san_francisco_ca</td>\n",
       "      <td>unknown_if_kids</td>\n",
       "      <td>likes_dogs_and_cats</td>\n",
       "      <td>other/unknown</td>\n",
       "      <td>aquarius</td>\n",
       "      <td>does_not_smoke</td>\n",
       "      <td>entertainment/artist/craftmans</td>\n",
       "      <td>0</td>\n",
       "    </tr>\n",
       "    <tr>\n",
       "      <th>3</th>\n",
       "      <td>29</td>\n",
       "      <td>m</td>\n",
       "      <td>heterosexual</td>\n",
       "      <td>average</td>\n",
       "      <td>anything</td>\n",
       "      <td>drinks</td>\n",
       "      <td>unknown_if_drugs</td>\n",
       "      <td>college_graduate_or_higher</td>\n",
       "      <td>white</td>\n",
       "      <td>67.0</td>\n",
       "      <td>computer / hardware / software</td>\n",
       "      <td>san_francisco_ca</td>\n",
       "      <td>no_kids</td>\n",
       "      <td>likes_cats</td>\n",
       "      <td>atheism</td>\n",
       "      <td>taurus</td>\n",
       "      <td>does_not_smoke</td>\n",
       "      <td>science/tech</td>\n",
       "      <td>0</td>\n",
       "    </tr>\n",
       "    <tr>\n",
       "      <th>4</th>\n",
       "      <td>31</td>\n",
       "      <td>f</td>\n",
       "      <td>heterosexual</td>\n",
       "      <td>average</td>\n",
       "      <td>anything</td>\n",
       "      <td>drinks</td>\n",
       "      <td>no_drugs</td>\n",
       "      <td>college_graduate_or_higher</td>\n",
       "      <td>white</td>\n",
       "      <td>65.0</td>\n",
       "      <td>artistic / musical / writer</td>\n",
       "      <td>san_francisco_ca</td>\n",
       "      <td>no_kids</td>\n",
       "      <td>likes_dogs_and_cats</td>\n",
       "      <td>christianity</td>\n",
       "      <td>sagittarius</td>\n",
       "      <td>does_not_smoke</td>\n",
       "      <td>entertainment/artist/craftmans</td>\n",
       "      <td>1</td>\n",
       "    </tr>\n",
       "  </tbody>\n",
       "</table>\n",
       "</div>"
      ],
      "text/plain": [
       "   age sex   orientation           body_type      diet  drinks  \\\n",
       "0   22   m  heterosexual  curvy/full_figured  anything  drinks   \n",
       "1   35   m  heterosexual             average     other  drinks   \n",
       "2   29   m  heterosexual        fit/athletic  anything  drinks   \n",
       "3   29   m  heterosexual             average  anything  drinks   \n",
       "4   31   f  heterosexual             average  anything  drinks   \n",
       "\n",
       "              drugs                   education ethnicity  height  \\\n",
       "0          no_drugs           no_college_degree     asian    75.0   \n",
       "1             drugs           unknown_education     white    70.0   \n",
       "2          no_drugs  college_graduate_or_higher     asian    66.0   \n",
       "3  unknown_if_drugs  college_graduate_or_higher     white    67.0   \n",
       "4          no_drugs  college_graduate_or_higher     white    65.0   \n",
       "\n",
       "                              job           location        offspring  \\\n",
       "0                  transportation   san_francisco_ca          no_kids   \n",
       "1            hospitality / travel  not_san_francisco          no_kids   \n",
       "2     artistic / musical / writer   san_francisco_ca  unknown_if_kids   \n",
       "3  computer / hardware / software   san_francisco_ca          no_kids   \n",
       "4     artistic / musical / writer   san_francisco_ca          no_kids   \n",
       "\n",
       "                  pets       religion         sign          smokes  \\\n",
       "0  likes_dogs_and_cats    agnosticism       gemini          smokes   \n",
       "1  likes_dogs_and_cats    agnosticism       cancer  does_not_smoke   \n",
       "2  likes_dogs_and_cats  other/unknown     aquarius  does_not_smoke   \n",
       "3           likes_cats        atheism       taurus  does_not_smoke   \n",
       "4  likes_dogs_and_cats   christianity  sagittarius  does_not_smoke   \n",
       "\n",
       "                   job_catagories  above_average_height  \n",
       "0                 public_services                     1  \n",
       "1                 public_services                     1  \n",
       "2  entertainment/artist/craftmans                     0  \n",
       "3                    science/tech                     0  \n",
       "4  entertainment/artist/craftmans                     1  "
      ]
     },
     "execution_count": 8,
     "metadata": {},
     "output_type": "execute_result"
    }
   ],
   "source": [
    "data.head()"
   ]
  },
  {
   "cell_type": "code",
   "execution_count": 9,
   "metadata": {},
   "outputs": [
    {
     "data": {
      "text/plain": [
       "Index(['age', 'sex', 'orientation', 'body_type', 'diet', 'drinks', 'drugs',\n",
       "       'education', 'ethnicity', 'height', 'job', 'location', 'offspring',\n",
       "       'pets', 'religion', 'sign', 'smokes', 'job_catagories',\n",
       "       'above_average_height'],\n",
       "      dtype='object')"
      ]
     },
     "execution_count": 9,
     "metadata": {},
     "output_type": "execute_result"
    }
   ],
   "source": [
    "data.keys()"
   ]
  },
  {
   "cell_type": "code",
   "execution_count": 10,
   "metadata": {},
   "outputs": [
    {
     "data": {
      "text/plain": [
       "32144"
      ]
     },
     "execution_count": 10,
     "metadata": {},
     "output_type": "execute_result"
    }
   ],
   "source": [
    "len(data)"
   ]
  },
  {
   "cell_type": "code",
   "execution_count": null,
   "metadata": {},
   "outputs": [],
   "source": []
  }
 ],
 "metadata": {
  "kernelspec": {
   "display_name": "learn-env",
   "language": "python",
   "name": "learn-env"
  },
  "language_info": {
   "codemirror_mode": {
    "name": "ipython",
    "version": 3
   },
   "file_extension": ".py",
   "mimetype": "text/x-python",
   "name": "python",
   "nbconvert_exporter": "python",
   "pygments_lexer": "ipython3",
   "version": "3.6.9"
  }
 },
 "nbformat": 4,
 "nbformat_minor": 4
}
