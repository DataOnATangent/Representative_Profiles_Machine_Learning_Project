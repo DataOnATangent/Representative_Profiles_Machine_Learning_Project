{
 "cells": [
  {
   "cell_type": "markdown",
   "metadata": {},
   "source": []
  },
  {
   "cell_type": "code",
   "execution_count": 1,
   "metadata": {},
   "outputs": [],
   "source": [
    "import pandas as pd \n",
    "import numpy as np \n",
    "import warnings\n",
    "warnings.filterwarnings(\"ignore\")"
   ]
  },
  {
   "cell_type": "code",
   "execution_count": 2,
   "metadata": {},
   "outputs": [],
   "source": [
    "data = pd.read_csv('okcupid_profiles.csv')   \n",
    "kc = ['age', 'sex', 'orientation', 'body_type', 'diet', 'drinks', 'drugs', 'education', 'ethnicity', 'height', 'job', 'location', \n",
    "      'offspring', 'pets', 'religion', 'sign','smokes'] \n",
    "data = data[kc]"
   ]
  },
  {
   "cell_type": "code",
   "execution_count": 3,
   "metadata": {},
   "outputs": [
    {
     "data": {
      "text/html": [
       "<div>\n",
       "<style scoped>\n",
       "    .dataframe tbody tr th:only-of-type {\n",
       "        vertical-align: middle;\n",
       "    }\n",
       "\n",
       "    .dataframe tbody tr th {\n",
       "        vertical-align: top;\n",
       "    }\n",
       "\n",
       "    .dataframe thead th {\n",
       "        text-align: right;\n",
       "    }\n",
       "</style>\n",
       "<table border=\"1\" class=\"dataframe\">\n",
       "  <thead>\n",
       "    <tr style=\"text-align: right;\">\n",
       "      <th></th>\n",
       "      <th>age</th>\n",
       "      <th>sex</th>\n",
       "      <th>orientation</th>\n",
       "      <th>body_type</th>\n",
       "      <th>diet</th>\n",
       "      <th>drinks</th>\n",
       "      <th>drugs</th>\n",
       "      <th>education</th>\n",
       "      <th>ethnicity</th>\n",
       "      <th>height</th>\n",
       "      <th>job</th>\n",
       "      <th>location</th>\n",
       "      <th>offspring</th>\n",
       "      <th>pets</th>\n",
       "      <th>religion</th>\n",
       "      <th>sign</th>\n",
       "      <th>smokes</th>\n",
       "    </tr>\n",
       "  </thead>\n",
       "  <tbody>\n",
       "    <tr>\n",
       "      <th>0</th>\n",
       "      <td>22</td>\n",
       "      <td>m</td>\n",
       "      <td>straight</td>\n",
       "      <td>a little extra</td>\n",
       "      <td>strictly anything</td>\n",
       "      <td>socially</td>\n",
       "      <td>never</td>\n",
       "      <td>working on college/university</td>\n",
       "      <td>asian, white</td>\n",
       "      <td>75.0</td>\n",
       "      <td>transportation</td>\n",
       "      <td>south san francisco, california</td>\n",
       "      <td>doesn't have kids, but might want them</td>\n",
       "      <td>likes dogs and likes cats</td>\n",
       "      <td>agnosticism and very serious about it</td>\n",
       "      <td>gemini</td>\n",
       "      <td>sometimes</td>\n",
       "    </tr>\n",
       "    <tr>\n",
       "      <th>1</th>\n",
       "      <td>35</td>\n",
       "      <td>m</td>\n",
       "      <td>straight</td>\n",
       "      <td>average</td>\n",
       "      <td>mostly other</td>\n",
       "      <td>often</td>\n",
       "      <td>sometimes</td>\n",
       "      <td>working on space camp</td>\n",
       "      <td>white</td>\n",
       "      <td>70.0</td>\n",
       "      <td>hospitality / travel</td>\n",
       "      <td>oakland, california</td>\n",
       "      <td>doesn't have kids, but might want them</td>\n",
       "      <td>likes dogs and likes cats</td>\n",
       "      <td>agnosticism but not too serious about it</td>\n",
       "      <td>cancer</td>\n",
       "      <td>no</td>\n",
       "    </tr>\n",
       "    <tr>\n",
       "      <th>2</th>\n",
       "      <td>38</td>\n",
       "      <td>m</td>\n",
       "      <td>straight</td>\n",
       "      <td>thin</td>\n",
       "      <td>anything</td>\n",
       "      <td>socially</td>\n",
       "      <td>NaN</td>\n",
       "      <td>graduated from masters program</td>\n",
       "      <td>NaN</td>\n",
       "      <td>68.0</td>\n",
       "      <td>NaN</td>\n",
       "      <td>san francisco, california</td>\n",
       "      <td>NaN</td>\n",
       "      <td>has cats</td>\n",
       "      <td>NaN</td>\n",
       "      <td>pisces but it doesn&amp;rsquo;t matter</td>\n",
       "      <td>no</td>\n",
       "    </tr>\n",
       "  </tbody>\n",
       "</table>\n",
       "</div>"
      ],
      "text/plain": [
       "   age sex orientation       body_type               diet    drinks  \\\n",
       "0   22   m    straight  a little extra  strictly anything  socially   \n",
       "1   35   m    straight         average       mostly other     often   \n",
       "2   38   m    straight            thin           anything  socially   \n",
       "\n",
       "       drugs                       education     ethnicity  height  \\\n",
       "0      never   working on college/university  asian, white    75.0   \n",
       "1  sometimes           working on space camp         white    70.0   \n",
       "2        NaN  graduated from masters program           NaN    68.0   \n",
       "\n",
       "                    job                         location  \\\n",
       "0        transportation  south san francisco, california   \n",
       "1  hospitality / travel              oakland, california   \n",
       "2                   NaN        san francisco, california   \n",
       "\n",
       "                                offspring                       pets  \\\n",
       "0  doesn't have kids, but might want them  likes dogs and likes cats   \n",
       "1  doesn't have kids, but might want them  likes dogs and likes cats   \n",
       "2                                     NaN                   has cats   \n",
       "\n",
       "                                   religion  \\\n",
       "0     agnosticism and very serious about it   \n",
       "1  agnosticism but not too serious about it   \n",
       "2                                       NaN   \n",
       "\n",
       "                                 sign     smokes  \n",
       "0                              gemini  sometimes  \n",
       "1                              cancer         no  \n",
       "2  pisces but it doesn&rsquo;t matter         no  "
      ]
     },
     "execution_count": 3,
     "metadata": {},
     "output_type": "execute_result"
    }
   ],
   "source": [
    "data.head(3)"
   ]
  },
  {
   "cell_type": "code",
   "execution_count": 4,
   "metadata": {},
   "outputs": [
    {
     "data": {
      "text/plain": [
       "other                                7589\n",
       "student                              4882\n",
       "science / tech / engineering         4848\n",
       "computer / hardware / software       4709\n",
       "artistic / musical / writer          4439\n",
       "sales / marketing / biz dev          4391\n",
       "medicine / health                    3680\n",
       "education / academia                 3513\n",
       "executive / management               2373\n",
       "banking / financial / real estate    2266\n",
       "entertainment / media                2250\n",
       "law / legal services                 1381\n",
       "hospitality / travel                 1364\n",
       "construction / craftsmanship         1021\n",
       "clerical / administrative             805\n",
       "political / government                708\n",
       "rather not say                        436\n",
       "transportation                        366\n",
       "unemployed                            273\n",
       "retired                               250\n",
       "military                              204\n",
       "Name: job, dtype: int64"
      ]
     },
     "execution_count": 4,
     "metadata": {},
     "output_type": "execute_result"
    }
   ],
   "source": [
    "data.job.value_counts() \n",
    "#Because the is going to be my target variable/ what my classes are based on I will start by recoving the categories I will not be \n",
    "#including and creating a new column that aligns with with one of the four categories I will be categorizing them into   "
   ]
  },
  {
   "cell_type": "code",
   "execution_count": 5,
   "metadata": {},
   "outputs": [],
   "source": [
    "jobs_being_used = ['transportation', 'hospitality / travel', 'artistic / musical / writer', 'computer / hardware / software',\n",
    "       'banking / financial / real estate', 'entertainment / media','sales / marketing / biz dev','medicine / health',\n",
    "       'science / tech / engineering', 'executive / management','education / academia', 'clerical / administrative',\n",
    "       'construction / craftsmanship', 'political / government', 'law / legal services','military'] \n",
    "df = data[data['job'].isin(jobs_being_used)]"
   ]
  },
  {
   "cell_type": "code",
   "execution_count": 6,
   "metadata": {},
   "outputs": [
    {
     "data": {
      "text/plain": [
       "science / tech / engineering         4848\n",
       "computer / hardware / software       4709\n",
       "artistic / musical / writer          4439\n",
       "sales / marketing / biz dev          4391\n",
       "medicine / health                    3680\n",
       "education / academia                 3513\n",
       "executive / management               2373\n",
       "banking / financial / real estate    2266\n",
       "entertainment / media                2250\n",
       "law / legal services                 1381\n",
       "hospitality / travel                 1364\n",
       "construction / craftsmanship         1021\n",
       "clerical / administrative             805\n",
       "political / government                708\n",
       "transportation                        366\n",
       "military                              204\n",
       "Name: job, dtype: int64"
      ]
     },
     "execution_count": 6,
     "metadata": {},
     "output_type": "execute_result"
    }
   ],
   "source": [
    "df.job.value_counts()"
   ]
  },
  {
   "cell_type": "code",
   "execution_count": 7,
   "metadata": {},
   "outputs": [],
   "source": [
    "#Creating another column that identies wether person if above avarage height for thier sex or not \n",
    "df['job_catagories'] = np.nan \n",
    "df['job_catagories'] = df['job'] \n",
    "df.job_catagories.replace(['computer / hardware / software','science / tech / engineering'\n",
    "                     ],'science/tech', inplace=True)  \n",
    "df.job_catagories.replace(['transportation', 'hospitality / travel','medicine / health', 'education / academia','political / government',\n",
    "                'law / legal services', 'military'\n",
    "                     ],'public_services', inplace=True)  \n",
    "df.job_catagories.replace(['artistic / musical / writer','entertainment / media','construction / craftsmanship'\n",
    "                     ],'entertainment/artist/craftmans', inplace=True)  \n",
    "df.job_catagories.replace(['banking / financial / real estate','sales / marketing / biz dev','executive / management', \n",
    "                'clerical / administrative'],'other_white_collar', inplace=True)  \n"
   ]
  },
  {
   "cell_type": "code",
   "execution_count": 8,
   "metadata": {},
   "outputs": [
    {
     "data": {
      "text/plain": [
       "public_services                   11216\n",
       "other_white_collar                 9835\n",
       "science/tech                       9557\n",
       "entertainment/artist/craftmans     7710\n",
       "Name: job_catagories, dtype: int64"
      ]
     },
     "execution_count": 8,
     "metadata": {},
     "output_type": "execute_result"
    }
   ],
   "source": [
    "df['job_catagories'].value_counts()"
   ]
  },
  {
   "cell_type": "code",
   "execution_count": 9,
   "metadata": {},
   "outputs": [
    {
     "data": {
      "text/plain": [
       "array(['public_services', 'entertainment/artist/craftmans',\n",
       "       'science/tech', 'other_white_collar'], dtype=object)"
      ]
     },
     "execution_count": 9,
     "metadata": {},
     "output_type": "execute_result"
    }
   ],
   "source": [
    "df['job_catagories'].unique()"
   ]
  },
  {
   "cell_type": "code",
   "execution_count": 10,
   "metadata": {},
   "outputs": [],
   "source": [
    "df = df[df['sign'].notna()]"
   ]
  },
  {
   "cell_type": "code",
   "execution_count": 11,
   "metadata": {},
   "outputs": [
    {
     "data": {
      "text/plain": [
       "32144"
      ]
     },
     "execution_count": 11,
     "metadata": {},
     "output_type": "execute_result"
    }
   ],
   "source": [
    "len(df)"
   ]
  },
  {
   "cell_type": "code",
   "execution_count": 49,
   "metadata": {},
   "outputs": [
    {
     "data": {
      "text/plain": [
       "age                     0\n",
       "sex                     0\n",
       "orientation             0\n",
       "body_type               0\n",
       "diet                    0\n",
       "drinks                  0\n",
       "drugs                   0\n",
       "education               0\n",
       "ethnicity               0\n",
       "height                  0\n",
       "job                     0\n",
       "location                0\n",
       "offspring               0\n",
       "pets                    0\n",
       "religion                0\n",
       "sign                    0\n",
       "smokes                  0\n",
       "job_catagories          0\n",
       "above_average_height    0\n",
       "dtype: int64"
      ]
     },
     "execution_count": 49,
     "metadata": {},
     "output_type": "execute_result"
    }
   ],
   "source": [
    "df.isna().sum()"
   ]
  },
  {
   "cell_type": "code",
   "execution_count": 13,
   "metadata": {},
   "outputs": [],
   "source": [
    "#df.status.value_counts()  \n",
    "#From this data is probably makes the most sense to simply drop the unknown and possibly \n",
    "#the entire column since because the data came from a dating site this indicator is less \n",
    "#likely to be reasonably representative"
   ]
  },
  {
   "cell_type": "code",
   "execution_count": 14,
   "metadata": {},
   "outputs": [
    {
     "data": {
      "text/plain": [
       "m    19795\n",
       "f    12349\n",
       "Name: sex, dtype: int64"
      ]
     },
     "execution_count": 14,
     "metadata": {},
     "output_type": "execute_result"
    }
   ],
   "source": [
    "df.sex.value_counts()"
   ]
  },
  {
   "cell_type": "code",
   "execution_count": 50,
   "metadata": {},
   "outputs": [
    {
     "data": {
      "text/plain": [
       "heterosexual        27863\n",
       "not_heterosexual     4281\n",
       "Name: orientation, dtype: int64"
      ]
     },
     "execution_count": 50,
     "metadata": {},
     "output_type": "execute_result"
    }
   ],
   "source": [
    "df.orientation.value_counts() \n",
    "#This column is highly imblanced, I am choosign to combine the two minority classes into one and may rebalance this later one."
   ]
  },
  {
   "cell_type": "code",
   "execution_count": 16,
   "metadata": {},
   "outputs": [],
   "source": [
    "df['orientation'] = df['orientation'].replace(['straight','gay','bisexual'],\n",
    "                                          ['heterosexual','not_heterosexual','not_heterosexual'])\n"
   ]
  },
  {
   "cell_type": "code",
   "execution_count": 51,
   "metadata": {},
   "outputs": [
    {
     "data": {
      "text/plain": [
       "fit/athletic          13725\n",
       "average               10709\n",
       "curvy/full_figured     4509\n",
       "thin/skinny            3201\n",
       "Name: body_type, dtype: int64"
      ]
     },
     "execution_count": 51,
     "metadata": {},
     "output_type": "execute_result"
    }
   ],
   "source": [
    "df.body_type.value_counts() \n",
    "#This column has been reconfigured to group up similar descriptions. I have also changed the descriptions of \"jacked\" and \"used up\" \n",
    "#as they are desciptors with ambiguous meaning and changed nan and rather not say to average as well. "
   ]
  },
  {
   "cell_type": "code",
   "execution_count": 18,
   "metadata": {},
   "outputs": [],
   "source": [
    "df['body_type'] = df['body_type'].replace(['fit','athletic','thin','skinny','curvy','a little extra', 'full figured', 'overweight',\n",
    "                                          'jacked','used up', 'rather not say'],\n",
    "                                          ['fit/athletic','fit/athletic','thin/skinny','thin/skinny', 'curvy/full_figured', 'curvy/full_figured',\n",
    "                                          'curvy/full_figured','curvy/full_figured', 'average', 'average', 'average'])\n",
    "df['body_type'] = df['body_type'].fillna('average')"
   ]
  },
  {
   "cell_type": "code",
   "execution_count": 52,
   "metadata": {},
   "outputs": [
    {
     "data": {
      "text/plain": [
       "anything            27961\n",
       "vegan/vegetarian     3056\n",
       "other                1127\n",
       "Name: diet, dtype: int64"
      ]
     },
     "execution_count": 52,
     "metadata": {},
     "output_type": "execute_result"
    }
   ],
   "source": [
    "df.diet.value_counts() \n",
    "#This column had a large number of missing values. I chose to include them in the anything catagory for the sake retaining as much \n",
    "#data as possible but also with the assumption that if wasn't important enough to fill in it is unlikely to be too relevant to the \n",
    "#observations life."
   ]
  },
  {
   "cell_type": "code",
   "execution_count": 20,
   "metadata": {},
   "outputs": [],
   "source": [
    "df['diet'] = df['diet'].replace(['strictly anything', 'mostly other', 'mostly anything', 'mostly vegetarian', 'strictly vegan', \n",
    "                                  'vegetarian','mostly halal', 'strictly vegetarian', 'strictly other', 'mostly kosher',\n",
    "                                 'mostly vegan', 'vegan', 'strictly kosher', 'kosher', 'strictly halal', 'halal'],\n",
    "                                          ['anything','other','anything','vegan/vegetarian', 'vegan/vegetarian', 'vegan/vegetarian',\n",
    "                                          'other','vegan/vegetarian', 'other', 'other', 'vegan/vegetarian', 'vegan/vegetarian','other',\n",
    "                                          'other','other','other'])\n",
    "df['diet'] = df['diet'].fillna('anything')"
   ]
  },
  {
   "cell_type": "code",
   "execution_count": 53,
   "metadata": {},
   "outputs": [
    {
     "data": {
      "text/plain": [
       "drinks                26578\n",
       "rarely/not_at_all      4768\n",
       "unknown_if_drinker      798\n",
       "Name: drinks, dtype: int64"
      ]
     },
     "execution_count": 53,
     "metadata": {},
     "output_type": "execute_result"
    }
   ],
   "source": [
    "df.drinks.value_counts() \n",
    "#Simplified catagories "
   ]
  },
  {
   "cell_type": "code",
   "execution_count": 22,
   "metadata": {},
   "outputs": [],
   "source": [
    "df['drinks'] = df['drinks'].replace(['socially', 'often', 'not at all', 'rarely','very often','desperately'],\n",
    "                                    ['drinks', 'drinks','rarely/not_at_all','rarely/not_at_all','drinks','drinks' ])\n",
    "df['drinks'] = df['drinks'].fillna('unknown_if_drinker')"
   ]
  },
  {
   "cell_type": "code",
   "execution_count": 54,
   "metadata": {},
   "outputs": [
    {
     "data": {
      "text/plain": [
       "no_drugs            20400\n",
       "unknown_if_drugs     7411\n",
       "drugs                4333\n",
       "Name: drugs, dtype: int64"
      ]
     },
     "execution_count": 54,
     "metadata": {},
     "output_type": "execute_result"
    }
   ],
   "source": [
    "df.drugs.value_counts() \n",
    "#Simplified catagories "
   ]
  },
  {
   "cell_type": "code",
   "execution_count": 24,
   "metadata": {},
   "outputs": [],
   "source": [
    "df['drugs'] = df['drugs'].replace(['never', 'sometimes', 'often'],\n",
    "                                ['no_drugs', 'drugs','drugs'])\n",
    "df['drugs'] = df['drugs'].fillna('unknown_if_drugs')"
   ]
  },
  {
   "cell_type": "code",
   "execution_count": 55,
   "metadata": {},
   "outputs": [
    {
     "data": {
      "text/plain": [
       "college_graduate_or_higher    25174\n",
       "no_college_degree              3993\n",
       "unknown_education              2977\n",
       "Name: education, dtype: int64"
      ]
     },
     "execution_count": 55,
     "metadata": {},
     "output_type": "execute_result"
    }
   ],
   "source": [
    "df.education.value_counts() \n",
    "#Simplified the catagories including changing any \"space camp\" responses to unknown since it seems unlikely that many people went to \n",
    "#space camp "
   ]
  },
  {
   "cell_type": "code",
   "execution_count": 26,
   "metadata": {},
   "outputs": [],
   "source": [
    "df.education.replace(['graduated from college/university','working on masters program','graduated from masters program', \n",
    "                      'college/university','graduated from law school', 'graduated from two-year college','working on med school',\n",
    "                       'graduated from ph.d program','graduated from med school', 'two-year college', 'working on ph.d program',\n",
    "                       'dropped out of ph.d program','dropped out of med school','working on law school',\n",
    "                      'dropped out of masters program', 'masters program', 'ph.d program', 'law school',\n",
    "                      'dropped out of law school', 'med school'], 'college_graduate_or_higher', inplace=True) \n",
    "\n",
    "df.education.replace(['working on college/university','dropped out of college/university','dropped out of high school',\n",
    "                      'dropped out of two-year college', 'working on two-year college','high school', 'graduated from high school',\n",
    "                      'working on high school'],'no_college_degree', inplace=True)  \n",
    "\n",
    "df.education.replace(['working on space camp', 'graduated from space camp', 'dropped out of space camp',\n",
    "                     'dropped out of space camp','space camp'\n",
    "                     ],'unknown_education', inplace=True)   \n",
    "df['education'] = df['education'].fillna('unknown_education')"
   ]
  },
  {
   "cell_type": "code",
   "execution_count": 27,
   "metadata": {},
   "outputs": [
    {
     "data": {
      "text/html": [
       "<div>\n",
       "<style scoped>\n",
       "    .dataframe tbody tr th:only-of-type {\n",
       "        vertical-align: middle;\n",
       "    }\n",
       "\n",
       "    .dataframe tbody tr th {\n",
       "        vertical-align: top;\n",
       "    }\n",
       "\n",
       "    .dataframe thead th {\n",
       "        text-align: right;\n",
       "    }\n",
       "</style>\n",
       "<table border=\"1\" class=\"dataframe\">\n",
       "  <thead>\n",
       "    <tr style=\"text-align: right;\">\n",
       "      <th></th>\n",
       "      <th>age</th>\n",
       "      <th>height</th>\n",
       "    </tr>\n",
       "  </thead>\n",
       "  <tbody>\n",
       "    <tr>\n",
       "      <th>count</th>\n",
       "      <td>32144.000000</td>\n",
       "      <td>32144.000000</td>\n",
       "    </tr>\n",
       "    <tr>\n",
       "      <th>mean</th>\n",
       "      <td>33.479778</td>\n",
       "      <td>68.394102</td>\n",
       "    </tr>\n",
       "    <tr>\n",
       "      <th>std</th>\n",
       "      <td>9.229992</td>\n",
       "      <td>3.959041</td>\n",
       "    </tr>\n",
       "    <tr>\n",
       "      <th>min</th>\n",
       "      <td>18.000000</td>\n",
       "      <td>1.000000</td>\n",
       "    </tr>\n",
       "    <tr>\n",
       "      <th>25%</th>\n",
       "      <td>27.000000</td>\n",
       "      <td>66.000000</td>\n",
       "    </tr>\n",
       "    <tr>\n",
       "      <th>50%</th>\n",
       "      <td>31.000000</td>\n",
       "      <td>69.000000</td>\n",
       "    </tr>\n",
       "    <tr>\n",
       "      <th>75%</th>\n",
       "      <td>38.000000</td>\n",
       "      <td>71.000000</td>\n",
       "    </tr>\n",
       "    <tr>\n",
       "      <th>max</th>\n",
       "      <td>69.000000</td>\n",
       "      <td>95.000000</td>\n",
       "    </tr>\n",
       "  </tbody>\n",
       "</table>\n",
       "</div>"
      ],
      "text/plain": [
       "                age        height\n",
       "count  32144.000000  32144.000000\n",
       "mean      33.479778     68.394102\n",
       "std        9.229992      3.959041\n",
       "min       18.000000      1.000000\n",
       "25%       27.000000     66.000000\n",
       "50%       31.000000     69.000000\n",
       "75%       38.000000     71.000000\n",
       "max       69.000000     95.000000"
      ]
     },
     "execution_count": 27,
     "metadata": {},
     "output_type": "execute_result"
    }
   ],
   "source": [
    "df.describe()"
   ]
  },
  {
   "cell_type": "code",
   "execution_count": 56,
   "metadata": {},
   "outputs": [
    {
     "data": {
      "text/plain": [
       "70.0    3271\n",
       "68.0    3061\n",
       "72.0    2906\n",
       "67.0    2866\n",
       "69.0    2803\n",
       "71.0    2629\n",
       "66.0    2477\n",
       "64.0    1983\n",
       "65.0    1974\n",
       "73.0    1589\n",
       "74.0    1444\n",
       "63.0    1433\n",
       "62.0    1151\n",
       "79.0     745\n",
       "75.0     733\n",
       "61.0     527\n",
       "60.0     393\n",
       "59.0      97\n",
       "58.0      25\n",
       "56.0      21\n",
       "57.0       9\n",
       "55.0       4\n",
       "52.0       1\n",
       "54.0       1\n",
       "53.0       1\n",
       "Name: height, dtype: int64"
      ]
     },
     "execution_count": 56,
     "metadata": {},
     "output_type": "execute_result"
    }
   ],
   "source": [
    "df.height.value_counts() \n",
    "#The column will be capped to reasonable nubers as descibed by this website: https://dqydj.com/height-percentile-calculator-for-men-and-women/ \n",
    "#According to this less than 1 percent of women are below 4'8\" and less than 1 percent of men are taller than 6'3\" with an std of about\n",
    "#three inches inbetween "
   ]
  },
  {
   "cell_type": "code",
   "execution_count": 29,
   "metadata": {},
   "outputs": [],
   "source": [
    "def cap_height(row):\n",
    "    if row['height'] > 75.0:\n",
    "        row['height'] = 79.0 #column average\n",
    "    if row['height'] < 52:\n",
    "        row['height'] = 56\n",
    "    return row  \n",
    "df = df.apply(cap_height, axis = 1)"
   ]
  },
  {
   "cell_type": "code",
   "execution_count": 30,
   "metadata": {},
   "outputs": [],
   "source": [
    "#Creating another column that identies wether person if above avarage height for thier sex or not \n",
    "df['above_average_height'] = np.nan \n",
    "def aah_column(row): \n",
    "    male_avg = 69.2\n",
    "    female_avg = 63.6\n",
    "    if row['sex'] == 'm':\n",
    "        if row['height'] > male_avg: \n",
    "            row['above_average_height'] = 1  \n",
    "        else: \n",
    "            row['above_average_height'] = 0 \n",
    "    else: \n",
    "        if row['height'] > female_avg: \n",
    "            row['above_average_height'] = 1  \n",
    "        else: \n",
    "            row['above_average_height'] = 0 \n",
    "    return row \n",
    "\n",
    "df = df.apply(aah_column, axis = 1)"
   ]
  },
  {
   "cell_type": "code",
   "execution_count": 31,
   "metadata": {},
   "outputs": [
    {
     "data": {
      "text/plain": [
       "1    21422\n",
       "0    10722\n",
       "Name: above_average_height, dtype: int64"
      ]
     },
     "execution_count": 31,
     "metadata": {},
     "output_type": "execute_result"
    }
   ],
   "source": [
    "df.above_average_height.value_counts()"
   ]
  },
  {
   "cell_type": "code",
   "execution_count": 32,
   "metadata": {},
   "outputs": [],
   "source": [
    "#data.income.value_counts() \n",
    "#Column will be dropped due to most not having answered this question and being that it is from a dating site, the chances of users\n",
    "#inflating this number in my opinion is high"
   ]
  },
  {
   "cell_type": "code",
   "execution_count": 57,
   "metadata": {},
   "outputs": [
    {
     "data": {
      "text/plain": [
       "san_francisco_ca     17394\n",
       "not_san_francisco    14750\n",
       "Name: location, dtype: int64"
      ]
     },
     "execution_count": 57,
     "metadata": {},
     "output_type": "execute_result"
    }
   ],
   "source": [
    "df.location.value_counts() \n",
    "#Since this data was taken from the san fran area most users will be in this area and so I have simplified the column to a binary "
   ]
  },
  {
   "cell_type": "code",
   "execution_count": 34,
   "metadata": {},
   "outputs": [
    {
     "data": {
      "text/plain": [
       "array(['south san francisco, california', 'oakland, california',\n",
       "       'san francisco, california', 'daly city, california',\n",
       "       'atherton, california', 'san leandro, california',\n",
       "       'san rafael, california', 'walnut creek, california',\n",
       "       'berkeley, california', 'belmont, california',\n",
       "       'san jose, california', 'palo alto, california',\n",
       "       'emeryville, california', 'el granada, california',\n",
       "       'castro valley, california', 'fairfax, california',\n",
       "       'mountain view, california', 'menlo park, california',\n",
       "       'burlingame, california', 'alameda, california',\n",
       "       'benicia, california', 'mill valley, california',\n",
       "       'san mateo, california', 'redwood city, california',\n",
       "       'el cerrito, california', 'stanford, california',\n",
       "       'san pablo, california', 'lafayette, california',\n",
       "       'fremont, california', 'orinda, california', 'novato, california',\n",
       "       'vallejo, california', 'san lorenzo, california',\n",
       "       'san carlos, california', 'pacifica, california',\n",
       "       'hayward, california', 'foster city, california',\n",
       "       'hercules, california', 'bolinas, california',\n",
       "       'larkspur, california', 'moraga, california', 'albany, california',\n",
       "       'martinez, california', 'san bruno, california',\n",
       "       'millbrae, california', 'el sobrante, california',\n",
       "       'richmond, california', 'petaluma, california',\n",
       "       'pinole, california', 'pleasant hill, california',\n",
       "       'san geronimo, california', 'san anselmo, california',\n",
       "       'sausalito, california', 'crockett, california',\n",
       "       'boulder, colorado', 'half moon bay, california',\n",
       "       'belvedere tiburon, california', 'montara, california',\n",
       "       'corte madera, california', 'new york, new york',\n",
       "       'green brae, california', 'ross, california',\n",
       "       'east palo alto, california', 'brisbane, california',\n",
       "       'hacienda heights, california', 'point richmond, california',\n",
       "       'sacramento, california', 'rodeo, california', 'portland, oregon',\n",
       "       'tucson, arizona', 'honolulu, hawaii', 'billings, montana',\n",
       "       'west oakland, california', 'glencove, california',\n",
       "       'tiburon, california', 'peoria, illinois', 'bellwood, illinois',\n",
       "       'nha trang, vietnam', 'hillsborough, california',\n",
       "       'moss beach, california', 'kensington, california',\n",
       "       'kentfield, california', 'redwood shores, california',\n",
       "       'woodside, california', 'lagunitas, california',\n",
       "       'studio city, california', 'concord, california',\n",
       "       'forest knolls, california', 'edinburgh, united kingdom',\n",
       "       'london, united kingdom', 'chicago, illinois', 'colma, california',\n",
       "       'los angeles, california', 'south wellfleet, massachusetts',\n",
       "       'piedmont, california', 'los gatos, california', 'boise, idaho',\n",
       "       'islip terrace, new york', 'sunnyvale, california',\n",
       "       'cambridge, massachusetts', 'ozone park, new york',\n",
       "       'jackson, mississippi', 'south orange, new jersey',\n",
       "       'atlanta, georgia', 'madrid, spain', 'port costa, california',\n",
       "       'nicasio, california', 'bellingham, washington',\n",
       "       'woodacre, california', 'boston, massachusetts',\n",
       "       'longwood, florida', 'westlake, california',\n",
       "       'granite bay, california', 'campbell, california',\n",
       "       'santa ana, california', 'santa rosa, california',\n",
       "       'nevada city, california', 'providence, rhode island',\n",
       "       'stockton, california', 'vancouver, british columbia, canada',\n",
       "       'pacheco, california', 'irvine, california',\n",
       "       'kansas city, missouri', 'kassel, germany',\n",
       "       'stinson beach, california', 'philadelphia, pennsylvania',\n",
       "       'amsterdam, netherlands', 'napa, california', 'austin, texas',\n",
       "       'brooklyn, new york', 'bonaduz, switzerland',\n",
       "       'salt lake city, utah', 'bayshore, california',\n",
       "       'south lake tahoe, california', 'vacaville, california',\n",
       "       'miami, florida', 'long beach, california', 'cincinnati, ohio',\n",
       "       'phoenix, arizona', 'rochester, michigan'], dtype=object)"
      ]
     },
     "execution_count": 34,
     "metadata": {},
     "output_type": "execute_result"
    }
   ],
   "source": [
    "df.location.unique()"
   ]
  },
  {
   "cell_type": "code",
   "execution_count": 35,
   "metadata": {},
   "outputs": [],
   "source": [
    "df['location'] = df['location'].fillna('not_san_francisco')\n",
    "df.location.replace(['san francisco, california', 'south san francisco, california'],  'san_francisco_ca', inplace=True) \n",
    "df.location.replace(['oakland, california', 'daly city, california','atherton, california', \n",
    "                     'san leandro, california', 'san rafael, california', 'walnut creek, california',  'berkeley, california', \n",
    "                     'belmont, california','san jose, california', 'palo alto, california', 'emeryville, california', \n",
    "                     'el granada, california', 'castro valley, california', 'fairfax, california','mountain view, california', \n",
    "                     'menlo park, california', 'burlingame, california', 'alameda, california','benicia, california', \n",
    "                     'mill valley, california', 'san mateo, california', 'redwood city, california', 'el cerrito, california', \n",
    "                     'stanford, california', 'san pablo, california', 'lafayette, california', 'fremont, california', \n",
    "                     'orinda, california', 'novato, california', 'vallejo, california', 'san lorenzo, california','san carlos, california', 'pacifica, california',\n",
    "                     'hayward, california', 'foster city, california','hercules, california', 'bolinas, california',\n",
    "                     'larkspur, california', 'moraga, california', 'albany, california','martinez, california', 'san bruno, california',\n",
    "                     'millbrae, california', 'el sobrante, california','richmond, california', 'petaluma, california','pinole, california', 'pleasant hill, california',\n",
    "                     'san geronimo, california', 'san anselmo, california','sausalito, california', 'crockett, california',\n",
    "                    'boulder, colorado', 'half moon bay, california','belvedere tiburon, california', 'montara, california', 'corte madera, california', 'new york, new york',\n",
    "                     'green brae, california', 'ross, california', 'east palo alto, california', 'brisbane, california',\n",
    "                     'hacienda heights, california', 'point richmond, california','sacramento, california', 'rodeo, california', 'portland, oregon',\n",
    "                       'tucson, arizona', 'honolulu, hawaii', 'billings, montana','west oakland, california', 'glencove, california',\n",
    "                       'tiburon, california', 'peoria, illinois', 'bellwood, illinois',\n",
    "                       'nha trang, vietnam', 'hillsborough, california','moss beach, california', 'kensington, california', 'kentfield, california', 'redwood shores, california',\n",
    "                       'woodside, california', 'lagunitas, california','studio city, california', 'concord, california','forest knolls, california', 'edinburgh, united kingdom',\n",
    "                       'london, united kingdom', 'chicago, illinois', 'colma, california','los angeles, california', 'south wellfleet, massachusetts', 'piedmont, california', 'los gatos, california', 'boise, idaho',\n",
    "                       'islip terrace, new york', 'sunnyvale, california', 'cambridge, massachusetts', 'ozone park, new york','jackson, mississippi', 'south orange, new jersey','atlanta, georgia', 'madrid, spain', 'port costa, california','nicasio, california', 'bellingham, washington',\n",
    "                       'woodacre, california', 'boston, massachusetts','longwood, florida', 'westlake, california','granite bay, california', 'campbell, california',\n",
    "                       'santa ana, california', 'santa rosa, california', 'nevada city, california', 'providence, rhode island','stockton, california', 'vancouver, british columbia, canada','pacheco, california', 'irvine, california',\n",
    "                       'kansas city, missouri', 'kassel, germany','stinson beach, california', 'philadelphia, pennsylvania', 'amsterdam, netherlands', 'napa, california', 'austin, texas','brooklyn, new york', 'bonaduz, switzerland',\n",
    "                       'salt lake city, utah', 'bayshore, california', 'south lake tahoe, california', 'vacaville, california', 'miami, florida', 'long beach, california', 'cincinnati, ohio','phoenix, arizona', 'rochester, michigan', 'santa cruz, california',\n",
    "                        'freedom, california', 'san quentin, california','utica, michigan', 'seaside, california', 'santa monica, california', 'woodbridge, virginia',\n",
    "                        'arcadia, california', 'san antonio, texas', 'kula, hawaii','washington, district of columbia', 'muir beach, california','canyon, california', 'minneapolis, minnesota','san diego, california'], \n",
    "                    'not_san_francisco', inplace=True)  \n"
   ]
  },
  {
   "cell_type": "code",
   "execution_count": 58,
   "metadata": {},
   "outputs": [
    {
     "data": {
      "text/plain": [
       "unknown_if_kids    17789\n",
       "no_kids            11264\n",
       "has_kids            3091\n",
       "Name: offspring, dtype: int64"
      ]
     },
     "execution_count": 58,
     "metadata": {},
     "output_type": "execute_result"
    }
   ],
   "source": [
    "df.offspring.value_counts()  \n",
    "#Simplifying catagory into has kids, does not have kids, and unknown "
   ]
  },
  {
   "cell_type": "code",
   "execution_count": 59,
   "metadata": {},
   "outputs": [],
   "source": [
    "df['offspring'] = df['offspring'].fillna('unknown_if_kids') \n",
    "df.offspring.replace(['has a kid', 'has kids', \"has kids, but doesn't want more\", \"has a kid, but doesn't want more\",\n",
    "                      'has kids, and might want more', 'has a kid, and might want more', 'has a kid, and wants more', \n",
    "                      'has kids, and wants more'\n",
    "                     ],'has_kids', inplace=True) \n",
    "df.offspring.replace([\"doesn't have kids, but might want them\",\"doesn't have kids, but wants them\", \"doesn't have kids\",\n",
    "                      'might want kids', \"doesn't have kids, and doesn't want any\", \"doesn't want kids\",'wants kids',\n",
    "                     ],'no_kids', inplace=True)"
   ]
  },
  {
   "cell_type": "code",
   "execution_count": 38,
   "metadata": {},
   "outputs": [
    {
     "data": {
      "text/plain": [
       "likes dogs and likes cats          8932\n",
       "likes dogs                         4310\n",
       "likes dogs and has cats            2624\n",
       "has dogs                           2313\n",
       "has dogs and likes cats            1306\n",
       "likes dogs and dislikes cats       1241\n",
       "has cats                            804\n",
       "has dogs and has cats               789\n",
       "likes cats                          599\n",
       "has dogs and dislikes cats          342\n",
       "dislikes dogs and likes cats        161\n",
       "dislikes dogs and dislikes cats     113\n",
       "dislikes cats                        68\n",
       "dislikes dogs and has cats           46\n",
       "dislikes dogs                        23\n",
       "Name: pets, dtype: int64"
      ]
     },
     "execution_count": 38,
     "metadata": {},
     "output_type": "execute_result"
    }
   ],
   "source": [
    "df.pets.value_counts() \n",
    "#Simplified categories"
   ]
  },
  {
   "cell_type": "code",
   "execution_count": 60,
   "metadata": {},
   "outputs": [],
   "source": [
    "df['pets'] = df['pets'].fillna('unknown_pet_feelings') \n",
    "df.pets.replace(['likes dogs and likes cats', 'likes dogs and has cats','has dogs and likes cats','has dogs and has cats', \n",
    "                     ],'likes_dogs_and_cats', inplace=True) \n",
    "df.pets.replace(['likes dogs and dislikes cats','has dogs','likes dogs','has dogs and dislikes cats',\n",
    "                     ],'likes_dogs', inplace=True) \n",
    "df.pets.replace(['likes cats','has cats','dislikes dogs and likes cats', 'dislikes dogs and has cats'\n",
    "                     ],'likes_cats', inplace=True) \n",
    "df.pets.replace(['dislikes cats','dislikes dogs and dislikes cats','dislikes dogs'\n",
    "                     ],'dislikes_cats_and_or_dogs', inplace=True)"
   ]
  },
  {
   "cell_type": "code",
   "execution_count": 61,
   "metadata": {},
   "outputs": [
    {
     "data": {
      "text/plain": [
       "white             18482\n",
       "asian              4363\n",
       "other/unknown      4099\n",
       "hispanic/latin     2628\n",
       "black              1487\n",
       "indian              713\n",
       "middle_eastern      372\n",
       "Name: ethnicity, dtype: int64"
      ]
     },
     "execution_count": 61,
     "metadata": {},
     "output_type": "execute_result"
    }
   ],
   "source": [
    "df.ethnicity.value_counts() \n",
    "#Grouped up those in the majority groups to include those that were mixed with one of the majority groups "
   ]
  },
  {
   "cell_type": "code",
   "execution_count": 41,
   "metadata": {},
   "outputs": [],
   "source": [
    "df['ethnicity'] = df['ethnicity'].fillna('other/unknown') \n",
    "df.loc[df['ethnicity'].str.contains('asian'), 'ethnicity'] = 'asian' \n",
    "df.loc[df['ethnicity'].str.contains('hispanic'), 'ethnicity'] = 'hispanic/latin' \n",
    "df.loc[df['ethnicity'].str.contains('black'), 'ethnicity'] = 'black' \n",
    "df.loc[df['ethnicity'].str.contains('middle eastern'), 'ethnicity'] = 'middle_eastern' \n",
    "df.loc[df['ethnicity'].str.contains('indian'), 'ethnicity'] = 'indian' \n",
    "df.ethnicity.replace(['pacific islander, white','pacific islander', 'native american, white', 'native american, white, other', \n",
    "                      'white, other','other', 'native american', 'pacific islander, other', 'pacific islander, white, other',\n",
    "                      'native american, other', 'native american, pacific islander, white', \n",
    "                      'native american, pacific islander, white, other', 'native american, pacific islander'],'other/unknown', inplace=True)"
   ]
  },
  {
   "cell_type": "code",
   "execution_count": 62,
   "metadata": {},
   "outputs": [
    {
     "data": {
      "text/plain": [
       "other/unknown    13248\n",
       "agnosticism       5374\n",
       "atheism           3710\n",
       "christianity      3319\n",
       "catholicism       3038\n",
       "judaism           1851\n",
       "buddhism          1231\n",
       "hinduism           308\n",
       "islam               65\n",
       "Name: religion, dtype: int64"
      ]
     },
     "execution_count": 62,
     "metadata": {},
     "output_type": "execute_result"
    }
   ],
   "source": [
    "df.religion.value_counts() \n",
    "#simplified catagories by removing atitudes "
   ]
  },
  {
   "cell_type": "code",
   "execution_count": 43,
   "metadata": {},
   "outputs": [],
   "source": [
    "df['religion'] = df['religion'].fillna('other/unknown') \n",
    "df.loc[df['religion'].str.contains('agnosticism'), 'religion'] = 'agnosticism' \n",
    "df.loc[df['religion'].str.contains('catholicism'), 'religion'] = 'catholicism' \n",
    "df.loc[df['religion'].str.contains('christianity'), 'religion'] = 'christianity' \n",
    "df.loc[df['religion'].str.contains('atheism'), 'religion'] = 'atheism' \n",
    "df.loc[df['religion'].str.contains('judaism'), 'religion'] = 'judaism' \n",
    "df.loc[df['religion'].str.contains('buddhism'), 'religion'] = 'buddhism' \n",
    "df.loc[df['religion'].str.contains('hinduism'), 'religion'] = 'hinduism'\n",
    "df.loc[df['religion'].str.contains('other'), 'religion'] = 'other/unknown' \n",
    "df.loc[df['religion'].str.contains('islam'), 'religion'] = 'islam' "
   ]
  },
  {
   "cell_type": "code",
   "execution_count": 63,
   "metadata": {},
   "outputs": [
    {
     "data": {
      "text/plain": [
       "gemini         2884\n",
       "leo            2879\n",
       "cancer         2796\n",
       "libra          2772\n",
       "scorpio        2762\n",
       "taurus         2713\n",
       "virgo          2696\n",
       "aries          2608\n",
       "pisces         2600\n",
       "aquarius       2562\n",
       "sagittarius    2534\n",
       "capricorn      2338\n",
       "Name: sign, dtype: int64"
      ]
     },
     "execution_count": 63,
     "metadata": {},
     "output_type": "execute_result"
    }
   ],
   "source": [
    "df.sign.value_counts() \n",
    "#simplified signs"
   ]
  },
  {
   "cell_type": "code",
   "execution_count": 45,
   "metadata": {},
   "outputs": [],
   "source": [
    "df.loc[df['sign'].str.contains('aries'), 'sign'] = 'aries'\n",
    "df.loc[df['sign'].str.contains('taurus'), 'sign'] = 'taurus'\n",
    "df.loc[df['sign'].str.contains('gemini'), 'sign'] = 'gemini'\n",
    "df.loc[df['sign'].str.contains('cancer'), 'sign'] = 'cancer'\n",
    "df.loc[df['sign'].str.contains('leo'), 'sign'] = 'leo'\n",
    "df.loc[df['sign'].str.contains('virgo'), 'sign'] = 'virgo'\n",
    "df.loc[df['sign'].str.contains('libra'), 'sign'] = 'libra'\n",
    "df.loc[df['sign'].str.contains('scorpio'), 'sign'] = 'scorpio'\n",
    "df.loc[df['sign'].str.contains('sagittarius'), 'sign'] = 'sagittarius' \n",
    "df.loc[df['sign'].str.contains('capricorn'), 'sign'] = 'capricorn'\n",
    "df.loc[df['sign'].str.contains('aquarius'), 'sign'] = 'aquarius'\n",
    "df.loc[df['sign'].str.contains('pisces'), 'sign'] = 'pisces'"
   ]
  },
  {
   "cell_type": "code",
   "execution_count": 64,
   "metadata": {},
   "outputs": [
    {
     "data": {
      "text/plain": [
       "does_not_smoke       24454\n",
       "smokes                5587\n",
       "unknown_if_smokes     2103\n",
       "Name: smokes, dtype: int64"
      ]
     },
     "execution_count": 64,
     "metadata": {},
     "output_type": "execute_result"
    }
   ],
   "source": [
    "df.smokes.value_counts() \n",
    "#Simplified catagories "
   ]
  },
  {
   "cell_type": "code",
   "execution_count": 47,
   "metadata": {},
   "outputs": [],
   "source": [
    "df['smokes'] = df['smokes'].fillna('unknown_if_smokes') \n",
    "df.smokes.replace(['no'],'does_not_smoke', inplace=True) \n",
    "df.smokes.replace(['sometimes','when drinking','yes','trying to quit'],'smokes', inplace=True)"
   ]
  },
  {
   "cell_type": "code",
   "execution_count": 48,
   "metadata": {},
   "outputs": [
    {
     "data": {
      "text/plain": [
       "27    1966\n",
       "28    1936\n",
       "26    1914\n",
       "29    1863\n",
       "30    1819\n",
       "25    1722\n",
       "31    1587\n",
       "32    1535\n",
       "24    1465\n",
       "33    1324\n",
       "34    1132\n",
       "35    1091\n",
       "23    1054\n",
       "36     973\n",
       "37     888\n",
       "38     852\n",
       "39     708\n",
       "22     666\n",
       "42     659\n",
       "40     648\n",
       "41     632\n",
       "43     520\n",
       "44     467\n",
       "45     406\n",
       "46     377\n",
       "47     338\n",
       "21     331\n",
       "48     297\n",
       "49     286\n",
       "50     258\n",
       "20     229\n",
       "52     219\n",
       "51     208\n",
       "55     169\n",
       "54     169\n",
       "56     163\n",
       "57     154\n",
       "53     146\n",
       "58     117\n",
       "59     115\n",
       "60     112\n",
       "61      99\n",
       "19      92\n",
       "62      90\n",
       "63      72\n",
       "64      53\n",
       "65      50\n",
       "66      46\n",
       "18      46\n",
       "67      35\n",
       "68      32\n",
       "69      14\n",
       "Name: age, dtype: int64"
      ]
     },
     "execution_count": 48,
     "metadata": {},
     "output_type": "execute_result"
    }
   ],
   "source": [
    "df.age.value_counts()"
   ]
  },
  {
   "cell_type": "code",
   "execution_count": 65,
   "metadata": {},
   "outputs": [],
   "source": [
    "df.to_csv('processed_data.csv')"
   ]
  },
  {
   "cell_type": "code",
   "execution_count": null,
   "metadata": {},
   "outputs": [],
   "source": []
  }
 ],
 "metadata": {
  "kernelspec": {
   "display_name": "learn-env",
   "language": "python",
   "name": "learn-env"
  },
  "language_info": {
   "codemirror_mode": {
    "name": "ipython",
    "version": 3
   },
   "file_extension": ".py",
   "mimetype": "text/x-python",
   "name": "python",
   "nbconvert_exporter": "python",
   "pygments_lexer": "ipython3",
   "version": "3.6.9"
  }
 },
 "nbformat": 4,
 "nbformat_minor": 4
}
